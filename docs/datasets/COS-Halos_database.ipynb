{
 "cells": [
  {
   "cell_type": "markdown",
   "metadata": {},
   "source": [
    "# COS-Halos Database (v1.2.1)\n",
    "\n",
    "This Notebook is intended to record updates to the COS-Halos database.\n",
    "\n",
    "Version History:\n",
    "\n",
    " * v1.0   -- 09 Feb 2016 by JXP\n",
    " * v1.1   -- 13 Apr 2016 by JXP\n",
    " * v1.1.1 -- 14 Jul 2016 by JXP  [includes 2 values for sig_NHI]\n",
    " * v1.1.2 -- 17 Sep 2016 by JXP  [updated NHI for several systems]\n",
    " * v1.1.3 -- 21 Oct 2016 by JXP  [add in new ZH, including PDFs]\n",
    " * v1.2.0 -- 10 Feb 2017 by JXP  [add in abmagr; not writing tarball to pyigm yet]\n",
    " * v1.2.1 -- 1 Dec 2017 by JXP   [rest of AB mag and error]"
   ]
  },
  {
   "cell_type": "markdown",
   "metadata": {},
   "source": [
    "## NOTE:  The actual updating should use the update_cos_halos method in cos_halos.py"
   ]
  },
  {
   "cell_type": "code",
   "execution_count": 1,
   "metadata": {
    "collapsed": true
   },
   "outputs": [],
   "source": [
    "# imports\n",
    "import pdb\n",
    "from pyigm.cgm.cos_halos import COSHalos\n",
    "from pyigm.cgm import cos_halos as pch"
   ]
  },
  {
   "cell_type": "markdown",
   "metadata": {},
   "source": [
    "## Update the Megastructure\n",
    "\n",
    "J0910+1014_34_46\n",
    "\n",
    "has coverage of 5 SiII transitions yet the \n",
    "megastructure implies only 1:\n",
    "\n",
    "IDL> help, megastruct[ii].ion[14,2], /str\n",
    "\n",
    "    LOGNION         DOUBLE           12.957801\n",
    "    SIGLOGNION      DOUBLE         0.081717335\n",
    "    NFLG            LONG                 1\n",
    "    NTRANS          LONG                 1\n",
    "    BVAL            DOUBLE           0.0000000\n",
    "    SIGBVAL         DOUBLE           0.0000000\n",
    "    TRANS           STRUCT    -> TMPTRANS Array[16]\n"
   ]
  },
  {
   "cell_type": "markdown",
   "metadata": {},
   "source": [
    "## Load FITS files from Megastructure\n",
    "\n",
    "Generated on Dec 7, 2014 by JXP\n",
    "\n",
    "This step will update the f-values (several lines were\n",
    "using the old Morton 1991 reference) and associated column densities.\n",
    "\n",
    "The synthesize_colm() method of AbsComponent is used for final columns.\n",
    "These match the original to within 10% in all cases."
   ]
  },
  {
   "cell_type": "code",
   "execution_count": 2,
   "metadata": {
    "collapsed": false
   },
   "outputs": [
    {
     "name": "stdout",
     "output_type": "stream",
     "text": [
      "read_sets: Using set file -- \n",
      "  /Volumes/Pegasus/Dropbox/Code/linetools/linetools/lists/sets/llist_v1.2.ascii\n",
      "Loading abundances from Asplund2009\n",
      "Abundances are relative by number on a logarithmic scale with H=12\n",
      "Be patient, using /Volumes/Pegasus/Dropbox/Code/pyigm/pyigm/data/CGM/COS_Halos/cos-halos_systems.v1.2.tar.gz to load\n",
      "Skipping a likely folder: CGM_JSON\n"
     ]
    },
    {
     "name": "stderr",
     "output_type": "stream",
     "text": [
      "/Volumes/Pegasus/Dropbox/Code/pyigm/pyigm/cgm/cos_halos.py:281: UserWarning: This method may be DEPRECATED\n",
      "  warnings.warn(\"This method may be DEPRECATED\")\n"
     ]
    }
   ],
   "source": [
    "reload(pch)\n",
    "cos_halos = pch.COSHalos()\n",
    "cos_halos.load_mega()#test=True)"
   ]
  },
  {
   "cell_type": "code",
   "execution_count": 10,
   "metadata": {
    "collapsed": false
   },
   "outputs": [
    {
     "ename": "TypeError",
     "evalue": "abs_kin() takes exactly 2 arguments (1 given)",
     "output_type": "error",
     "traceback": [
      "\u001b[0;31m---------------------------------------------------------------------------\u001b[0m",
      "\u001b[0;31mTypeError\u001b[0m                                 Traceback (most recent call last)",
      "\u001b[0;32m<ipython-input-10-6515d8729ce5>\u001b[0m in \u001b[0;36m<module>\u001b[0;34m()\u001b[0m\n\u001b[0;32m----> 1\u001b[0;31m \u001b[0mcos_halos\u001b[0m\u001b[0;34m.\u001b[0m\u001b[0mabs_kin\u001b[0m\u001b[0;34m(\u001b[0m\u001b[0;34m)\u001b[0m\u001b[0;34m\u001b[0m\u001b[0m\n\u001b[0m",
      "\u001b[0;31mTypeError\u001b[0m: abs_kin() takes exactly 2 arguments (1 given)"
     ]
    }
   ],
   "source": [
    "cos_halos.abs_kin()"
   ]
  },
  {
   "cell_type": "code",
   "execution_count": 9,
   "metadata": {
    "collapsed": false
   },
   "outputs": [
    {
     "data": {
      "text/plain": [
       "[]"
      ]
     },
     "execution_count": 9,
     "metadata": {},
     "output_type": "execute_result"
    }
   ],
   "source": [
    "cos_halos.cgm_abs[0].igm_sys.kin.keys()\n"
   ]
  },
  {
   "cell_type": "markdown",
   "metadata": {},
   "source": [
    "## Write to JSON tarball"
   ]
  },
  {
   "cell_type": "markdown",
   "metadata": {},
   "source": [
    "# FIX sig_logN for limits?"
   ]
  },
  {
   "cell_type": "code",
   "execution_count": 5,
   "metadata": {
    "collapsed": true
   },
   "outputs": [],
   "source": [
    "tarfil = cos_halos.cdir+'/cos-halos_systems.v1.0.tar.gz'"
   ]
  },
  {
   "cell_type": "code",
   "execution_count": 6,
   "metadata": {
    "collapsed": false
   },
   "outputs": [
    {
     "name": "stdout",
     "output_type": "stream",
     "text": [
      "Wrote: /Users/xavier/Dropbox/COS-Halos-Data//cos-halos_systems.v1.0.tar.gz\n"
     ]
    },
    {
     "name": "stderr",
     "output_type": "stream",
     "text": [
      "/Users/xavier/local/Python/pyigm/pyigm/cgm/cgmsurvey.py:70: UserWarning: Modify to write directly to tar file\n",
      "  warnings.warn(\"Modify to write directly to tar file\")\n"
     ]
    }
   ],
   "source": [
    "cos_halos.write_survey(tarfil)"
   ]
  },
  {
   "cell_type": "markdown",
   "metadata": {},
   "source": [
    "----"
   ]
  },
  {
   "cell_type": "markdown",
   "metadata": {},
   "source": [
    "# Generating v1.1"
   ]
  },
  {
   "cell_type": "code",
   "execution_count": 22,
   "metadata": {
    "collapsed": true
   },
   "outputs": [],
   "source": [
    "from pyigm.cgm import cos_halos as pch\n",
    "import pdb"
   ]
  },
  {
   "cell_type": "markdown",
   "metadata": {},
   "source": [
    "### Short cut"
   ]
  },
  {
   "cell_type": "code",
   "execution_count": 26,
   "metadata": {
    "collapsed": false
   },
   "outputs": [
    {
     "name": "stdout",
     "output_type": "stream",
     "text": [
      "See the COS-Halos_database notebook for details\n",
      "Generate v1.1 of the JSON tarball\n",
      "Be patient, using /Users/xavier/local/Python/pyigm/pyigm/data/CGM/COS_Halos/cos-halos_systems.v1.0.tar.gz to load\n",
      "Skipping a likely folder: CGM_JSON\n",
      "<AbsComponent: 12:33:35.1 +47:58:00.5, Name=CIII_z0.22210, Zion=(6,3), Ej=0 1 / cm, z=0.222103, vlim=-84 km / s,80 km / s>\n",
      "<AbsComponent: 09:43:31.6 +05:31:31.5, Name=NII_z0.35295, Zion=(7,2), Ej=0 1 / cm, z=0.352952, vlim=-50 km / s,450 km / s, logN=14.711, sig_N=8.36472e-14, flag_N=3>\n",
      "<AbsComponent: 09:43:31.6 +05:31:31.5, Name=CII_z0.35295, Zion=(6,2), Ej=0 1 / cm, z=0.352952, vlim=-15 km / s,547 km / s, logN=14.4414, sig_N=0.0921919, flag_N=3>\n",
      "<AbsComponent: 16:19:16.5 +33:42:38.4, Name=CII_z0.14137, Zion=(6,2), Ej=0 1 / cm, z=0.141367, vlim=-160 km / s,55 km / s, logN=14.3184, sig_N=0.0391796, flag_N=3>\n",
      "<AbsComponent: 09:10:29.8 +10:14:13.6, Name=NII_z0.14274, Zion=(7,2), Ej=0 1 / cm, z=0.142738, vlim=-212 km / s,40 km / s, logN=14.3247, sig_N=0.135632, flag_N=3>\n",
      "Wrote: /Users/xavier/local/Python/pyigm/pyigm/data/CGM/COS_Halos/cos-halos_systems.v1.1.tar.gz\n"
     ]
    }
   ],
   "source": [
    "reload(pch)\n",
    "pch.update_cos_halos(v11=True)"
   ]
  },
  {
   "cell_type": "markdown",
   "metadata": {},
   "source": [
    "## Update $N_{\\rm HI}$ measurements (Prochaska+16)"
   ]
  },
  {
   "cell_type": "markdown",
   "metadata": {},
   "source": [
    "### Load JSON files"
   ]
  },
  {
   "cell_type": "code",
   "execution_count": 1,
   "metadata": {
    "collapsed": true
   },
   "outputs": [],
   "source": []
  },
  {
   "cell_type": "code",
   "execution_count": 2,
   "metadata": {
    "collapsed": false
   },
   "outputs": [
    {
     "name": "stderr",
     "output_type": "stream",
     "text": [
      "WARNING: UnitsWarning: The unit 'Angstrom' has been deprecated in the FITS standard. Suggested: 10**-1 nm. [astropy.units.format.utils]\n",
      "/Users/xavier/local/Python/linetools/linetools/lists/linelist.py:374: RuntimeWarning: divide by zero encountered in log10\n",
      "  self._data['log(w*f)'] = np.log10(qm_strength)\n",
      "/Users/xavier/anaconda/lib/python2.7/site-packages/numpy/ma/core.py:824: RuntimeWarning: invalid value encountered in less_equal\n",
      "  return umath.less_equal(x, self.critical_value)\n"
     ]
    },
    {
     "name": "stdout",
     "output_type": "stream",
     "text": [
      "Loading abundances from Asplund2009\n",
      "Abundances are relative by number on a logarithmic scale with H=12\n",
      "Be patient, using /Users/xavier/local/Python/pyigm/pyigm/data/CGM/COS_Halos//cos-halos_systems.v1.0.tar.gz to load\n",
      "Skipping a likely folder: CGM_JSON\n"
     ]
    }
   ],
   "source": [
    "reload(pch)\n",
    "cos_halos_v10 = pch.COSHalos(load=False)\n",
    "cos_halos_v10.load_sys(tfile=cos_halos_v10.cdir+'/cos-halos_systems.v1.0.tar.gz')"
   ]
  },
  {
   "cell_type": "markdown",
   "metadata": {},
   "source": [
    "### Load NHI measurements"
   ]
  },
  {
   "cell_type": "code",
   "execution_count": 3,
   "metadata": {
    "collapsed": true
   },
   "outputs": [],
   "source": [
    "import json\n",
    "import pyigm\n",
    "LLS_file = pyigm.__path__[0]+'/data/CGM/COS_Halos/COS_Halos_LLS.json'\n",
    "#LLS_file = cos_halos_v10.cdir + '/Updates/COS_Halos_LLS.json'  # Generated in paper/COS-Halos/Patchup/Analysis\n",
    "with open(LLS_file) as json_file:\n",
    "    fdict = json.load(json_file)\n",
    "#fdict"
   ]
  },
  {
   "cell_type": "markdown",
   "metadata": {},
   "source": [
    "### Loop on systems"
   ]
  },
  {
   "cell_type": "code",
   "execution_count": 4,
   "metadata": {
    "collapsed": true
   },
   "outputs": [],
   "source": [
    "names = cos_halos_v10.name"
   ]
  },
  {
   "cell_type": "code",
   "execution_count": 5,
   "metadata": {
    "collapsed": true
   },
   "outputs": [],
   "source": [
    "for key in fdict.keys():\n",
    "    # Match\n",
    "    mt = np.where(names == key)[0]\n",
    "    if len(mt) != 1:\n",
    "        raise ValueError(\"No match?!\")\n",
    "    # Fill in \n",
    "    if fdict[key]['flag_NHI'] == 1:\n",
    "        cos_halos_v10.cgm_abs[mt[0]].igm_sys.NHI = fdict[key]['fit_NHI'][0]\n",
    "        cos_halos_v10.cgm_abs[mt[0]].igm_sys.sig_NHI = [fdict[key]['fit_NHI'][0]-fdict[key]['fit_NHI'][1],\n",
    "                                                        fdict[key]['fit_NHI'][2]-fdict[key]['fit_NHI'][0]]\n",
    "        #pdb.set_trace()\n",
    "        cos_halos_v10.cgm_abs[mt[0]].igm_sys.flag_NHI = 1\n",
    "    elif fdict[key]['flag_NHI'] == 2:\n",
    "        cos_halos_v10.cgm_abs[mt[0]].igm_sys.NHI = fdict[key]['fit_NHI'][1]\n",
    "        cos_halos_v10.cgm_abs[mt[0]].igm_sys.flag_NHI = 2\n",
    "    elif fdict[key]['flag_NHI'] == 3:\n",
    "        cos_halos_v10.cgm_abs[mt[0]].igm_sys.NHI = fdict[key]['fit_NHI'][2]\n",
    "        cos_halos_v10.cgm_abs[mt[0]].igm_sys.flag_NHI = 3"
   ]
  },
  {
   "cell_type": "markdown",
   "metadata": {
    "collapsed": true
   },
   "source": [
    "## Modify a few column density measurements (Prochaska+16)"
   ]
  },
  {
   "cell_type": "markdown",
   "metadata": {},
   "source": [
    "### Load bad ions"
   ]
  },
  {
   "cell_type": "code",
   "execution_count": 10,
   "metadata": {
    "collapsed": true
   },
   "outputs": [],
   "source": [
    "import yaml\n",
    "#filename = cos_halos_v10.cdir + '/Updates/COS_Halos_ions_updates_v1.0.yaml'\n",
    "filename = pyigm.__path__[0]+'/data/CGM/COS_Halos/COS_Halos_ions_updates_v1.0.yaml'\n",
    "with open(filename, 'r') as infile:\n",
    "        up_ion_data = yaml.load(infile)"
   ]
  },
  {
   "cell_type": "code",
   "execution_count": 11,
   "metadata": {
    "collapsed": false
   },
   "outputs": [
    {
     "data": {
      "text/plain": [
       "{'J0910+1014_34_46': {'ion': {'7,2': {'flag_N': 3}}},\n",
       " 'J0928+6025_110_35': {'trans': {'FeIII 1122': {'flag_N': 1}}},\n",
       " 'J0943+0531_227_19': {'ion': {'6,2': {'flag_N': 3}, '7,2': {'flag_N': 3}}},\n",
       " 'J1016+4706_274_6': {'trans': {'FeII 1144': {'flag_N': 3}}},\n",
       " 'J1233+4758_94_38': {'ion': {'6,3': {'flag_N': 0}}},\n",
       " 'J1342-0053_157_10': {'trans': {'OI 971': {'flag_N': 3}}},\n",
       " 'J1435+3604_68_12': {'trans': {'OI 971': {'flag_N': 3}}},\n",
       " 'J1619+3342_113_40': {'ion': {'6,2': {'flag_N': 3}}},\n",
       " 'J2345-0059_356_12': {'trans': {'NII 1083': {'flag_N': 3},\n",
       "   'SiIII 1206': {'flag_N': 0}}}}"
      ]
     },
     "execution_count": 11,
     "metadata": {},
     "output_type": "execute_result"
    }
   ],
   "source": [
    "up_ion_data"
   ]
  },
  {
   "cell_type": "code",
   "execution_count": 12,
   "metadata": {
    "collapsed": false
   },
   "outputs": [
    {
     "name": "stdout",
     "output_type": "stream",
     "text": [
      "<AbsComponent: 12:33:35.1 +47:58:00.5, Name=CIII_z0.22210, Zion=(6,3), Ej=0 1 / cm, z=0.222103, vlim=-84 km / s,80 km / s>\n",
      "<AbsComponent: 09:43:31.6 +05:31:31.5, Name=NII_z0.35295, Zion=(7,2), Ej=0 1 / cm, z=0.352952, vlim=-50 km / s,450 km / s, logN=14.711, sig_N=8.36472e-14, flag_N=3>\n",
      "<AbsComponent: 09:43:31.6 +05:31:31.5, Name=CII_z0.35295, Zion=(6,2), Ej=0 1 / cm, z=0.352952, vlim=-15 km / s,547 km / s, logN=14.4414, sig_N=0.0921919, flag_N=3>\n",
      "<AbsComponent: 16:19:16.5 +33:42:38.4, Name=CII_z0.14137, Zion=(6,2), Ej=0 1 / cm, z=0.141367, vlim=-160 km / s,55 km / s, logN=14.3184, sig_N=0.0391796, flag_N=3>\n",
      "<AbsComponent: 09:10:29.8 +10:14:13.6, Name=NII_z0.14274, Zion=(7,2), Ej=0 1 / cm, z=0.142738, vlim=-212 km / s,40 km / s, logN=14.3247, sig_N=0.135632, flag_N=3>\n"
     ]
    },
    {
     "name": "stderr",
     "output_type": "stream",
     "text": [
      "/Users/xavier/local/Python/linetools/linetools/isgm/abscomponent.py:430: UserWarning: Absline <AbsLine: SiIII 1206, z=0.2539 wrest=1206.5000 Angstrom> has flag=0.  Hopefully you expected that\n",
      "  warnings.warn(\"Absline {} has flag=0.  Hopefully you expected that\".format(str(aline)))\n"
     ]
    }
   ],
   "source": [
    "for key in up_ion_data.keys():\n",
    "    # Match\n",
    "    mt = np.where(names == key)[0]\n",
    "    if len(mt) != 1:\n",
    "        raise ValueError(\"No match?!\")\n",
    "    igm_sys = cos_halos_v10.cgm_abs[mt[0]].igm_sys\n",
    "    # Fill in \n",
    "    for mod_type in up_ion_data[key].keys():\n",
    "        if mod_type == 'ion':\n",
    "            for ionkey in up_ion_data[key][mod_type].keys():\n",
    "                Zion = tuple([int(ii) for ii in ionkey.split(',')])\n",
    "                #\n",
    "                Zicomp = [comp.Zion for comp in igm_sys._components]\n",
    "                mtZi = Zicomp.index(Zion)\n",
    "                # Set\n",
    "                for att_key in up_ion_data[key][mod_type][ionkey].keys():\n",
    "                    if att_key == 'flag_N':\n",
    "                        #cos_halos_v10.cgm_abs[mt[0]].igm_sys._components[mtZi].flag_N = up_ion_data[key][mod_type][ionkey][att_key]\n",
    "                        igm_sys._components[mtZi].flag_N = up_ion_data[key][mod_type][ionkey][att_key]\n",
    "                    else: \n",
    "                        raise ValueError(\"Bad key for attribute\")\n",
    "                print(cos_halos_v10.cgm_abs[mt[0]].igm_sys._components[mtZi])\n",
    "        elif mod_type == 'trans':\n",
    "            for transkey in up_ion_data[key][mod_type].keys():\n",
    "                # Update AbsLine\n",
    "                lines = igm_sys.list_of_abslines()\n",
    "                trans = [iline.name for iline in lines]\n",
    "                aline = lines[trans.index(transkey)]\n",
    "                comp = igm_sys.get_comp_from_absline(aline)  # Grab it now before it changes\n",
    "                if att_key == 'flag_N':\n",
    "                    aline.attrib['flag_N'] = up_ion_data[key][mod_type][transkey][att_key]\n",
    "                # Remake component\n",
    "                try:\n",
    "                    comp.synthesize_colm(overwrite=True)\n",
    "                except ValueError:\n",
    "                    pdb.set_trace()\n",
    "        else: \n",
    "            #pdb.set_trace()\n",
    "            raise ValueError(\"Bad mod_type\")"
   ]
  },
  {
   "cell_type": "markdown",
   "metadata": {},
   "source": [
    "### Metallicity"
   ]
  },
  {
   "cell_type": "code",
   "execution_count": 18,
   "metadata": {
    "collapsed": true
   },
   "outputs": [],
   "source": [
    "mtlfil = pyigm.__path__[0]+'/data/CGM/COS_Halos/COS_Halos_MTL_final.hdf5'\n",
    "#\n",
    "cos_halos_v10.load_mtl_pdfs(mtlfil)\n",
    "# \n",
    "for cgm_abs in cos_halos_v10.cgm_abs:\n",
    "    if hasattr(cgm_abs.igm_sys, 'metallicity'):\n",
    "        cgm_abs.igm_sys.ZH = cgm_abs.igm_sys.metallicity.medianZH\n",
    "        cgm_abs.igm_sys.sig_ZH = cgm_abs.igm_sys.metallicity.confidence_limits(0.68)\n",
    "        #pdb.set_trace()"
   ]
  },
  {
   "cell_type": "markdown",
   "metadata": {},
   "source": [
    "### Write"
   ]
  },
  {
   "cell_type": "code",
   "execution_count": 19,
   "metadata": {
    "collapsed": true
   },
   "outputs": [],
   "source": [
    "tarfil = 'cos-halos_systems.v1.1.tar.gz'"
   ]
  },
  {
   "cell_type": "code",
   "execution_count": 20,
   "metadata": {
    "collapsed": false
   },
   "outputs": [
    {
     "name": "stdout",
     "output_type": "stream",
     "text": [
      "Wrote: cos-halos_systems.v1.1.tar.gz\n"
     ]
    }
   ],
   "source": [
    "cos_halos_v10.write_survey(tarfil)"
   ]
  },
  {
   "cell_type": "markdown",
   "metadata": {
    "collapsed": true
   },
   "source": [
    "----"
   ]
  },
  {
   "cell_type": "markdown",
   "metadata": {},
   "source": [
    "## v1.2"
   ]
  },
  {
   "cell_type": "code",
   "execution_count": 2,
   "metadata": {
    "collapsed": true
   },
   "outputs": [],
   "source": [
    "from importlib import reload\n",
    "from pyigm.cgm import cos_halos as pch"
   ]
  },
  {
   "cell_type": "code",
   "execution_count": 3,
   "metadata": {
    "collapsed": false
   },
   "outputs": [
    {
     "name": "stdout",
     "output_type": "stream",
     "text": [
      "See the COS-Halos_database notebook for details\n",
      "Generate v1.2 of the JSON tarball\n",
      "read_sets: Using set file -- \n",
      "  /home/xavier/local/Python/linetools/linetools/lists/sets/llist_v1.2.ascii\n"
     ]
    },
    {
     "name": "stderr",
     "output_type": "stream",
     "text": [
      "/home/xavier/local/Python/linetools/linetools/lists/linelist.py:402: RuntimeWarning: divide by zero encountered in log10\n",
      "  self._extra_table['log(w*f)'] = np.log10(qm_strength)\n",
      "/home/xavier/local/Python/linetools/linetools/spectralline.py:214: UserWarning: Redshift not input.  Setting to 0 for zLimits\n",
      "  warnings.warn(\"Redshift not input.  Setting to 0 for zLimits\")\n"
     ]
    },
    {
     "name": "stdout",
     "output_type": "stream",
     "text": [
      "Loading abundances from Asplund2009\n",
      "Abundances are relative by number on a logarithmic scale with H=12\n",
      "Be patient, using /home/xavier/local/Python/pyigm/pyigm/data/CGM/COS_Halos/cos-halos_systems.v1.1.tar.gz to load\n",
      "Skipping a likely folder: CGM_JSON\n",
      "Loading mega...\n"
     ]
    },
    {
     "name": "stderr",
     "output_type": "stream",
     "text": [
      "/home/xavier/local/Python/pyigm/pyigm/cgm/cos_halos.py:282: UserWarning: This method may be DEPRECATED\n",
      "  warnings.warn(\"This method may be DEPRECATED\")\n",
      "/home/xavier/local/Python/linetools/linetools/utils.py:123: UserWarning: Assuming your DEC is +\n",
      "  warnings.warn(\"Assuming your DEC is +\")\n",
      "/home/xavier/local/Python/pyigm/pyigm/cgm/cgm.py:159: UserWarning: cgm.CGMAbsSys: Using Planck15 cosmology\n",
      "  warnings.warn('cgm.CGMAbsSys: Using Planck15 cosmology')\n"
     ]
    },
    {
     "name": "stdout",
     "output_type": "stream",
     "text": [
      "Wrote: /home/xavier/local/Python/pyigm/pyigm/data/CGM/COS_Halos/cos-halos_systems.v1.2.tar.gz\n"
     ]
    },
    {
     "name": "stderr",
     "output_type": "stream",
     "text": [
      "/home/xavier/local/Python/pyigm/pyigm/cgm/cgmsurvey.py:182: UserWarning: Modify to write directly to tar file\n",
      "  warnings.warn(\"Modify to write directly to tar file\")\n"
     ]
    }
   ],
   "source": [
    "reload(pch)\n",
    "pch.update_cos_halos(v12=True)"
   ]
  },
  {
   "cell_type": "markdown",
   "metadata": {},
   "source": [
    "### Test"
   ]
  },
  {
   "cell_type": "code",
   "execution_count": 4,
   "metadata": {
    "collapsed": true
   },
   "outputs": [],
   "source": [
    "import pyigm"
   ]
  },
  {
   "cell_type": "code",
   "execution_count": 5,
   "metadata": {
    "collapsed": false
   },
   "outputs": [
    {
     "name": "stderr",
     "output_type": "stream",
     "text": [
      "/home/xavier/local/Python/linetools/linetools/lists/linelist.py:402: RuntimeWarning: divide by zero encountered in log10\n",
      "  self._extra_table['log(w*f)'] = np.log10(qm_strength)\n",
      "/home/xavier/local/Python/linetools/linetools/spectralline.py:214: UserWarning: Redshift not input.  Setting to 0 for zLimits\n",
      "  warnings.warn(\"Redshift not input.  Setting to 0 for zLimits\")\n"
     ]
    },
    {
     "name": "stdout",
     "output_type": "stream",
     "text": [
      "Loading abundances from Asplund2009\n",
      "Abundances are relative by number on a logarithmic scale with H=12\n",
      "Be patient, using /home/xavier/local/Python/pyigm/pyigm/data/CGM/COS_Halos/cos-halos_systems.v1.2.tar.gz to load\n",
      "Skipping a likely folder: CGM_JSON\n"
     ]
    }
   ],
   "source": [
    "reload(pch)\n",
    "chalos_v12 = pch.COSHalos(load=False)\n",
    "tfile = pyigm.__path__[0]+'/data/CGM/COS_Halos/cos-halos_systems.v1.2.tar.gz'\n",
    "chalos_v12.load_sys(tfile=tfile)"
   ]
  },
  {
   "cell_type": "code",
   "execution_count": 6,
   "metadata": {
    "collapsed": false
   },
   "outputs": [
    {
     "data": {
      "text/plain": [
       "(-20.216920852661133, 0.013802999630570412)"
      ]
     },
     "execution_count": 6,
     "metadata": {},
     "output_type": "execute_result"
    }
   ],
   "source": [
    "cgm_abs = chalos_v12.cgm_abs[0]\n",
    "cgm_abs.galaxy.abmagr, cgm_abs.galaxy.abmagrerr"
   ]
  },
  {
   "cell_type": "code",
   "execution_count": 7,
   "metadata": {
    "collapsed": false
   },
   "outputs": [
    {
     "data": {
      "text/plain": [
       "(-18.415197372436523, 0.09973800182342529)"
      ]
     },
     "execution_count": 7,
     "metadata": {},
     "output_type": "execute_result"
    }
   ],
   "source": [
    "cgm_abs.galaxy.abmagu, cgm_abs.galaxy.abmaguerr"
   ]
  },
  {
   "cell_type": "code",
   "execution_count": 8,
   "metadata": {
    "collapsed": false
   },
   "outputs": [
    {
     "data": {
      "text/plain": [
       "0.009180157445371151"
      ]
     },
     "execution_count": 8,
     "metadata": {},
     "output_type": "execute_result"
    }
   ],
   "source": [
    "cgm_abs.ebv"
   ]
  },
  {
   "cell_type": "code",
   "execution_count": 9,
   "metadata": {
    "collapsed": false
   },
   "outputs": [
    {
     "name": "stdout",
     "output_type": "stream",
     "text": [
      "<CGMAbsSys: J1016+4706_359_16 Galaxy RA/DEC=10:16:22.58+47:06:59.4, zgal=0.166137, rho=46.3231 kpc>\n"
     ]
    },
    {
     "data": {
      "text/plain": [
       "(None, 0.43527962732298514)"
      ]
     },
     "execution_count": 9,
     "metadata": {},
     "output_type": "execute_result"
    }
   ],
   "source": [
    "lstr0 = -21.12\n",
    "Lstar = 10**(-0.4*(cgm_abs.galaxy.abmagr - lstr0))\n",
    "print(cgm_abs), Lstar  # Matches our previous result"
   ]
  },
  {
   "cell_type": "code",
   "execution_count": null,
   "metadata": {
    "collapsed": true
   },
   "outputs": [],
   "source": []
  }
 ],
 "metadata": {
  "kernelspec": {
   "display_name": "Python [Root]",
   "language": "python",
   "name": "Python [Root]"
  },
  "language_info": {
   "codemirror_mode": {
    "name": "ipython",
    "version": 2
   },
   "file_extension": ".py",
   "mimetype": "text/x-python",
   "name": "python",
   "nbconvert_exporter": "python",
   "pygments_lexer": "ipython2",
   "version": "2.7.11"
  }
 },
 "nbformat": 4,
 "nbformat_minor": 1
}
