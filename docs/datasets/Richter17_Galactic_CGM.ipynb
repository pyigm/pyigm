{
 "cells": [
  {
   "cell_type": "markdown",
   "metadata": {},
   "source": [
    "# Ingest Richter17 measurements on the Galactic CGM [v2]\n",
    "    v1 -- Original\n",
    "    v2 -- Fixing coords and maybe more"
   ]
  },
  {
   "cell_type": "code",
   "execution_count": 1,
   "metadata": {},
   "outputs": [
    {
     "name": "stderr",
     "output_type": "stream",
     "text": [
      "/home/xavier/.pyenv/versions/anaconda3-5.0.1/lib/python3.6/importlib/_bootstrap.py:219: RuntimeWarning: numpy.dtype size changed, may indicate binary incompatibility. Expected 96, got 88\n",
      "  return f(*args, **kwds)\n",
      "/home/xavier/.pyenv/versions/anaconda3-5.0.1/lib/python3.6/importlib/_bootstrap.py:219: RuntimeWarning: numpy.dtype size changed, may indicate binary incompatibility. Expected 96, got 88\n",
      "  return f(*args, **kwds)\n"
     ]
    }
   ],
   "source": [
    "# inputs\n",
    "import numpy as np\n",
    "from pkg_resources import resource_filename \n",
    "\n",
    "from astropy.table import Table, Column\n",
    "from astropy import units as u\n",
    "\n",
    "from pyigm.cgm.galaxy import GalaxyCGM"
   ]
  },
  {
   "cell_type": "markdown",
   "metadata": {},
   "source": [
    "## Load"
   ]
  },
  {
   "cell_type": "code",
   "execution_count": 2,
   "metadata": {},
   "outputs": [
    {
     "data": {
      "text/html": [
       "<i>Table length=5</i>\n",
       "<table id=\"table140073175361240\" class=\"table-striped table-bordered table-condensed\">\n",
       "<thead><tr><th>_RAJ2000</th><th>_DEJ2000</th><th>No</th><th>Name</th><th>GLON</th><th>GLAT</th><th>SimbadName</th><th>_RA_icrs</th><th>_DE_icrs</th><th>Simbad_RA(ICRS)</th><th>Simbad_DEC(ICRS)</th><th>Simbad_Glon(ICRS)</th><th>Simbad_Glat(ICRS)</th></tr></thead>\n",
       "<thead><tr><th>deg</th><th>deg</th><th></th><th></th><th>deg</th><th>deg</th><th></th><th>deg</th><th>deg</th><th></th><th></th><th></th><th></th></tr></thead>\n",
       "<thead><tr><th>float64</th><th>float64</th><th>int16</th><th>bytes27</th><th>float32</th><th>float32</th><th>bytes25</th><th>float64</th><th>float64</th><th>float64</th><th>float64</th><th>float64</th><th>float64</th></tr></thead>\n",
       "<tr><td>217.45351936812588</td><td>6.7393742576277</td><td>1</td><td>J142947.03+064334.9</td><td>356.3</td><td>59.0</td><td>SDSS J142947.00+064334.9</td><td>217.45351944444442</td><td>6.739374166666666</td><td>217.44585624999996</td><td>6.726382777777778</td><td>356.271605051499</td><td>58.996440296029746</td></tr>\n",
       "<tr><td>328.75790356947584</td><td>-44.21544747775262</td><td>2</td><td>RXJ2154.1-4414</td><td>355.2</td><td>-50.9</td><td>RXJ2154.1-4414</td><td>328.7579036111111</td><td>-44.215447499999996</td><td>328.7129474999999</td><td>-44.23492944444445</td><td>355.1792990410096</td><td>-50.864694304982486</td></tr>\n",
       "<tr><td>217.3995534076949</td><td>3.348515085451824</td><td>3</td><td>2MASS-J14294076+0321257</td><td>351.8</td><td>56.6</td><td>2MASS J14294076+0321257</td><td>217.3995533333333</td><td>3.3485149999999995</td><td>217.4197470833333</td><td>3.3572008333333336</td><td>351.8377347980548</td><td>56.592891490641776</td></tr>\n",
       "<tr><td>302.35778254525206</td><td>-48.80893634906374</td><td>4</td><td>PKS2005-489</td><td>350.4</td><td>-32.6</td><td>PKS2005-489</td><td>302.3577825</td><td>-48.80893638888888</td><td>302.3557958333333</td><td>-48.83158944444445</td><td>350.373088568823</td><td>-32.6007615002691</td></tr>\n",
       "<tr><td>219.4260897286895</td><td>-1.774088469110249</td><td>5</td><td>LBQS-1435-0134</td><td>348.7</td><td>51.4</td><td>LBQS 1435-0134</td><td>219.4260897222222</td><td>-1.774088333333333</td><td>219.45119</td><td>-1.7863380555555555</td><td>348.7184380040282</td><td>51.37455679852881</td></tr>\n",
       "</table>"
      ],
      "text/plain": [
       "<Table length=5>\n",
       "     _RAJ2000           _DEJ2000      ... Simbad_Glon(ICRS)  Simbad_Glat(ICRS) \n",
       "       deg                deg         ...                                      \n",
       "     float64            float64       ...      float64            float64      \n",
       "------------------ ------------------ ... ----------------- -------------------\n",
       "217.45351936812588    6.7393742576277 ...  356.271605051499  58.996440296029746\n",
       "328.75790356947584 -44.21544747775262 ... 355.1792990410096 -50.864694304982486\n",
       " 217.3995534076949  3.348515085451824 ... 351.8377347980548  56.592891490641776\n",
       "302.35778254525206 -48.80893634906374 ...  350.373088568823   -32.6007615002691\n",
       " 219.4260897286895 -1.774088469110249 ... 348.7184380040282   51.37455679852881"
      ]
     },
     "execution_count": 2,
     "metadata": {},
     "output_type": "execute_result"
    }
   ],
   "source": [
    "r17_a1_file = resource_filename('pyigm', '/data/CGM/Galaxy/richter17_A1.fits')\n",
    "r17_a1 = Table.read(r17_a1_file)\n",
    "r17_a1[0:5]"
   ]
  },
  {
   "cell_type": "code",
   "execution_count": 3,
   "metadata": {},
   "outputs": [
    {
     "data": {
      "text/html": [
       "<i>Table masked=True length=20</i>\n",
       "<table id=\"table140073076715080\" class=\"table-striped table-bordered table-condensed\">\n",
       "<thead><tr><th>No</th><th>Name</th><th>Ion</th><th>lambda0</th><th>S_N</th><th>vmin</th><th>vmax</th><th>Flag</th><th>W</th><th>e_W</th><th>l_logN</th><th>logN</th><th>e_logN</th></tr></thead>\n",
       "<thead><tr><th></th><th></th><th></th><th>0.1nm</th><th></th><th>km / s</th><th>km / s</th><th></th><th>0.1pm</th><th>0.1pm</th><th></th><th>[cm/2]</th><th>[cm/2]</th></tr></thead>\n",
       "<thead><tr><th>int16</th><th>bytes27</th><th>bytes5</th><th>float32</th><th>int16</th><th>int16</th><th>int16</th><th>bytes1</th><th>int16</th><th>int16</th><th>bytes1</th><th>float32</th><th>float32</th></tr></thead>\n",
       "<tr><td>1</td><td>J142947.03+064334.9</td><td>CII</td><td>1334.5</td><td>6</td><td>-155</td><td>-100</td><td></td><td>145</td><td>27</td><td>&gt;</td><td>14.03</td><td>nan</td></tr>\n",
       "<tr><td>2</td><td>J142947.03+064334.9</td><td>CIV</td><td>1548.2</td><td>6</td><td>-165</td><td>-99</td><td></td><td>123</td><td>35</td><td></td><td>13.77</td><td>0.13</td></tr>\n",
       "<tr><td>3</td><td>J142947.03+064334.9</td><td>CIV</td><td>1550.8</td><td>6</td><td>-131</td><td>-100</td><td></td><td>42</td><td>22</td><td></td><td>13.55</td><td>0.16</td></tr>\n",
       "<tr><td>4</td><td>J142947.03+064334.9</td><td>SiII</td><td>1190.4</td><td>5</td><td>-133</td><td>-103</td><td></td><td>50</td><td>19</td><td></td><td>13.17</td><td>0.2</td></tr>\n",
       "<tr><td>5</td><td>J142947.03+064334.9</td><td>SiII</td><td>1193.3</td><td>5</td><td>-149</td><td>-100</td><td></td><td>94</td><td>26</td><td>&gt;</td><td>13.32</td><td>nan</td></tr>\n",
       "<tr><td>6</td><td>J142947.03+064334.9</td><td>SiII</td><td>1260.4</td><td>6</td><td>-155</td><td>-100</td><td></td><td>124</td><td>23</td><td>&gt;</td><td>13.15</td><td>nan</td></tr>\n",
       "<tr><td>7</td><td>J142947.03+064334.9</td><td>SiII</td><td>1526.7</td><td>5</td><td>-142</td><td>-99</td><td></td><td>59</td><td>32</td><td></td><td>13.64</td><td>0.26</td></tr>\n",
       "<tr><td>8</td><td>J142947.03+064334.9</td><td>SiIII</td><td>1206.5</td><td>4</td><td>-167</td><td>-99</td><td></td><td>122</td><td>39</td><td>&gt;</td><td>12.81</td><td>nan</td></tr>\n",
       "<tr><td>9</td><td>PKS2005-489</td><td>CII</td><td>1334.5</td><td>24</td><td>101</td><td>202</td><td></td><td>125</td><td>11</td><td></td><td>13.89</td><td>0.06</td></tr>\n",
       "<tr><td>10</td><td>PKS2005-489</td><td>CIV</td><td>1548.2</td><td>18</td><td>101</td><td>167</td><td></td><td>91</td><td>13</td><td></td><td>13.5</td><td>0.1</td></tr>\n",
       "<tr><td>11</td><td>PKS2005-489</td><td>SiII</td><td>1193.3</td><td>25</td><td>101</td><td>187</td><td></td><td>68</td><td>9</td><td></td><td>13.11</td><td>0.08</td></tr>\n",
       "<tr><td>12</td><td>PKS2005-489</td><td>SiII</td><td>1260.4</td><td>34</td><td>99</td><td>206</td><td></td><td>123</td><td>8</td><td></td><td>13.07</td><td>0.04</td></tr>\n",
       "<tr><td>13</td><td>PKS2005-489</td><td>SiIII</td><td>1206.5</td><td>25</td><td>101</td><td>203</td><td></td><td>143</td><td>9</td><td></td><td>13.0</td><td>0.06</td></tr>\n",
       "<tr><td>14</td><td>LBQS-1435-0134</td><td>CII</td><td>1334.5</td><td>31</td><td>-136</td><td>-100</td><td></td><td>57</td><td>4</td><td></td><td>13.59</td><td>0.07</td></tr>\n",
       "<tr><td>15</td><td>LBQS-1435-0134</td><td>CIV</td><td>1548.2</td><td>35</td><td>-183</td><td>-100</td><td></td><td>118</td><td>8</td><td></td><td>13.58</td><td>0.05</td></tr>\n",
       "<tr><td>16</td><td>LBQS-1435-0134</td><td>SiII</td><td>1190.4</td><td>32</td><td>-121</td><td>-100</td><td></td><td>0</td><td>0</td><td></td><td>nan</td><td>nan</td></tr>\n",
       "<tr><td>17</td><td>LBQS-1435-0134</td><td>SiII</td><td>1260.4</td><td>39</td><td>-156</td><td>-100</td><td></td><td>59</td><td>4</td><td></td><td>12.75</td><td>0.05</td></tr>\n",
       "<tr><td>18</td><td>LBQS-1435-0134</td><td>SiIII</td><td>1206.5</td><td>35</td><td>-180</td><td>-100</td><td></td><td>49</td><td>6</td><td></td><td>12.44</td><td>0.07</td></tr>\n",
       "<tr><td>19</td><td>RBS1892</td><td>CII</td><td>1334.5</td><td>22</td><td>-114</td><td>-100</td><td>t</td><td>13</td><td>3</td><td></td><td>12.9</td><td>0.23</td></tr>\n",
       "<tr><td>20</td><td>RBS1892</td><td>CIV</td><td>1548.2</td><td>17</td><td>-141</td><td>-102</td><td>t</td><td>37</td><td>10</td><td></td><td>13.04</td><td>0.19</td></tr>\n",
       "</table>"
      ],
      "text/plain": [
       "<Table masked=True length=20>\n",
       "  No          Name         Ion   lambda0  S_N  ...  e_W  l_logN   logN   e_logN\n",
       "                                  0.1nm        ... 0.1pm         [cm/2]  [cm/2]\n",
       "int16       bytes27       bytes5 float32 int16 ... int16 bytes1 float32 float32\n",
       "----- ------------------- ------ ------- ----- ... ----- ------ ------- -------\n",
       "    1 J142947.03+064334.9  CII    1334.5     6 ...    27      >   14.03     nan\n",
       "    2 J142947.03+064334.9  CIV    1548.2     6 ...    35          13.77    0.13\n",
       "    3 J142947.03+064334.9  CIV    1550.8     6 ...    22          13.55    0.16\n",
       "    4 J142947.03+064334.9  SiII   1190.4     5 ...    19          13.17     0.2\n",
       "    5 J142947.03+064334.9  SiII   1193.3     5 ...    26      >   13.32     nan\n",
       "    6 J142947.03+064334.9  SiII   1260.4     6 ...    23      >   13.15     nan\n",
       "    7 J142947.03+064334.9  SiII   1526.7     5 ...    32          13.64    0.26\n",
       "    8 J142947.03+064334.9  SiIII  1206.5     4 ...    39      >   12.81     nan\n",
       "    9         PKS2005-489  CII    1334.5    24 ...    11          13.89    0.06\n",
       "   10         PKS2005-489  CIV    1548.2    18 ...    13           13.5     0.1\n",
       "   11         PKS2005-489  SiII   1193.3    25 ...     9          13.11    0.08\n",
       "   12         PKS2005-489  SiII   1260.4    34 ...     8          13.07    0.04\n",
       "   13         PKS2005-489  SiIII  1206.5    25 ...     9           13.0    0.06\n",
       "   14      LBQS-1435-0134  CII    1334.5    31 ...     4          13.59    0.07\n",
       "   15      LBQS-1435-0134  CIV    1548.2    35 ...     8          13.58    0.05\n",
       "   16      LBQS-1435-0134  SiII   1190.4    32 ...     0            nan     nan\n",
       "   17      LBQS-1435-0134  SiII   1260.4    39 ...     4          12.75    0.05\n",
       "   18      LBQS-1435-0134  SiIII  1206.5    35 ...     6          12.44    0.07\n",
       "   19             RBS1892  CII    1334.5    22 ...     3           12.9    0.23\n",
       "   20             RBS1892  CIV    1548.2    17 ...    10          13.04    0.19"
      ]
     },
     "execution_count": 3,
     "metadata": {},
     "output_type": "execute_result"
    }
   ],
   "source": [
    "r17_a2_file = resource_filename('pyigm', '/data/CGM/Galaxy/richter17_A2.fits')\n",
    "r17_a2 = Table.read(r17_a2_file)\n",
    "r17_a2[0:20]"
   ]
  },
  {
   "cell_type": "code",
   "execution_count": 4,
   "metadata": {},
   "outputs": [
    {
     "data": {
      "text/html": [
       "&lt;MaskedColumn name=&apos;Ion&apos; dtype=&apos;bytes5&apos; length=4&gt;\n",
       "<table>\n",
       "<tr><td>CII</td></tr>\n",
       "<tr><td>CIV</td></tr>\n",
       "<tr><td>SiII</td></tr>\n",
       "<tr><td>SiIII</td></tr>\n",
       "</table>"
      ],
      "text/plain": [
       "<MaskedColumn name='Ion' dtype='bytes5' length=4>\n",
       "CII  \n",
       "CIV  \n",
       "SiII \n",
       "SiIII"
      ]
     },
     "execution_count": 4,
     "metadata": {},
     "output_type": "execute_result"
    }
   ],
   "source": [
    "np.unique(r17_a2['Ion'])"
   ]
  },
  {
   "cell_type": "markdown",
   "metadata": {},
   "source": [
    "## Sync"
   ]
  },
  {
   "cell_type": "code",
   "execution_count": 5,
   "metadata": {
    "collapsed": true
   },
   "outputs": [],
   "source": [
    "ra = np.zeros((len(r17_a2)))\n",
    "dec = np.zeros((len(r17_a2)))"
   ]
  },
  {
   "cell_type": "code",
   "execution_count": 6,
   "metadata": {
    "collapsed": true
   },
   "outputs": [],
   "source": [
    "for row in r17_a1:\n",
    "    idx = np.where(r17_a2['Name'] == row['Name'])[0]\n",
    "    # Fill\n",
    "    ra[idx] = row['Simbad_RA(ICRS)']\n",
    "    dec[idx] = row['Simbad_DEC(ICRS)']"
   ]
  },
  {
   "cell_type": "code",
   "execution_count": 7,
   "metadata": {
    "collapsed": true
   },
   "outputs": [],
   "source": [
    "r17_a2.add_column(Column(ra, name='RA'))\n",
    "r17_a2.add_column(Column(dec, name='DEC'))"
   ]
  },
  {
   "cell_type": "code",
   "execution_count": 8,
   "metadata": {},
   "outputs": [
    {
     "data": {
      "text/html": [
       "<i>Table masked=True length=1049</i>\n",
       "<table id=\"table140073073975080\" class=\"table-striped table-bordered table-condensed\">\n",
       "<thead><tr><th>No</th><th>Name</th><th>Ion</th><th>lambda0</th><th>S_N</th><th>vmin</th><th>vmax</th><th>Flag</th><th>W</th><th>e_W</th><th>l_logN</th><th>logN</th><th>e_logN</th><th>RA</th><th>DEC</th></tr></thead>\n",
       "<thead><tr><th></th><th></th><th></th><th>0.1nm</th><th></th><th>km / s</th><th>km / s</th><th></th><th>0.1pm</th><th>0.1pm</th><th></th><th>[cm/2]</th><th>[cm/2]</th><th></th><th></th></tr></thead>\n",
       "<thead><tr><th>int16</th><th>bytes27</th><th>bytes5</th><th>float32</th><th>int16</th><th>int16</th><th>int16</th><th>bytes1</th><th>int16</th><th>int16</th><th>bytes1</th><th>float32</th><th>float32</th><th>float64</th><th>float64</th></tr></thead>\n",
       "<tr><td>1</td><td>J142947.03+064334.9</td><td>CII</td><td>1334.5</td><td>6</td><td>-155</td><td>-100</td><td></td><td>145</td><td>27</td><td>&gt;</td><td>14.03</td><td>nan</td><td>217.44585624999996</td><td>6.726382777777778</td></tr>\n",
       "<tr><td>2</td><td>J142947.03+064334.9</td><td>CIV</td><td>1548.2</td><td>6</td><td>-165</td><td>-99</td><td></td><td>123</td><td>35</td><td></td><td>13.77</td><td>0.13</td><td>217.44585624999996</td><td>6.726382777777778</td></tr>\n",
       "<tr><td>3</td><td>J142947.03+064334.9</td><td>CIV</td><td>1550.8</td><td>6</td><td>-131</td><td>-100</td><td></td><td>42</td><td>22</td><td></td><td>13.55</td><td>0.16</td><td>217.44585624999996</td><td>6.726382777777778</td></tr>\n",
       "<tr><td>4</td><td>J142947.03+064334.9</td><td>SiII</td><td>1190.4</td><td>5</td><td>-133</td><td>-103</td><td></td><td>50</td><td>19</td><td></td><td>13.17</td><td>0.2</td><td>217.44585624999996</td><td>6.726382777777778</td></tr>\n",
       "<tr><td>5</td><td>J142947.03+064334.9</td><td>SiII</td><td>1193.3</td><td>5</td><td>-149</td><td>-100</td><td></td><td>94</td><td>26</td><td>&gt;</td><td>13.32</td><td>nan</td><td>217.44585624999996</td><td>6.726382777777778</td></tr>\n",
       "<tr><td>6</td><td>J142947.03+064334.9</td><td>SiII</td><td>1260.4</td><td>6</td><td>-155</td><td>-100</td><td></td><td>124</td><td>23</td><td>&gt;</td><td>13.15</td><td>nan</td><td>217.44585624999996</td><td>6.726382777777778</td></tr>\n",
       "<tr><td>7</td><td>J142947.03+064334.9</td><td>SiII</td><td>1526.7</td><td>5</td><td>-142</td><td>-99</td><td></td><td>59</td><td>32</td><td></td><td>13.64</td><td>0.26</td><td>217.44585624999996</td><td>6.726382777777778</td></tr>\n",
       "<tr><td>8</td><td>J142947.03+064334.9</td><td>SiIII</td><td>1206.5</td><td>4</td><td>-167</td><td>-99</td><td></td><td>122</td><td>39</td><td>&gt;</td><td>12.81</td><td>nan</td><td>217.44585624999996</td><td>6.726382777777778</td></tr>\n",
       "<tr><td>9</td><td>PKS2005-489</td><td>CII</td><td>1334.5</td><td>24</td><td>101</td><td>202</td><td></td><td>125</td><td>11</td><td></td><td>13.89</td><td>0.06</td><td>302.3557958333333</td><td>-48.83158944444445</td></tr>\n",
       "<tr><td>...</td><td>...</td><td>...</td><td>...</td><td>...</td><td>...</td><td>...</td><td>...</td><td>...</td><td>...</td><td>...</td><td>...</td><td>...</td><td>...</td><td>...</td></tr>\n",
       "<tr><td>1040</td><td>J141612.96+122340.5</td><td>CIV</td><td>1550.8</td><td>8</td><td>-132</td><td>-100</td><td></td><td>35</td><td>12</td><td></td><td>13.44</td><td>0.25</td><td>214.05363791666664</td><td>12.394551944444444</td></tr>\n",
       "<tr><td>1041</td><td>J141612.96+122340.5</td><td>SiII</td><td>1190.4</td><td>6</td><td>-153</td><td>-100</td><td></td><td>64</td><td>15</td><td></td><td>13.45</td><td>0.22</td><td>214.05363791666664</td><td>12.394551944444444</td></tr>\n",
       "<tr><td>1042</td><td>J141612.96+122340.5</td><td>SiII</td><td>1193.3</td><td>6</td><td>-145</td><td>-101</td><td></td><td>42</td><td>14</td><td></td><td>12.79</td><td>0.27</td><td>214.05363791666664</td><td>12.394551944444444</td></tr>\n",
       "<tr><td>1043</td><td>J141612.96+122340.5</td><td>SiII</td><td>1260.4</td><td>7</td><td>-150</td><td>-97</td><td></td><td>84</td><td>21</td><td></td><td>12.91</td><td>0.21</td><td>214.05363791666664</td><td>12.394551944444444</td></tr>\n",
       "<tr><td>1044</td><td>J141612.96+122340.5</td><td>SiII</td><td>1526.7</td><td>8</td><td>-151</td><td>-99</td><td></td><td>80</td><td>23</td><td></td><td>13.59</td><td>0.23</td><td>214.05363791666664</td><td>12.394551944444444</td></tr>\n",
       "<tr><td>1045</td><td>J141612.96+122340.5</td><td>SiIII</td><td>1206.5</td><td>8</td><td>-163</td><td>-101</td><td></td><td>81</td><td>20</td><td></td><td>12.8</td><td>0.16</td><td>214.05363791666664</td><td>12.394551944444444</td></tr>\n",
       "<tr><td>1046</td><td>SDSSJ134246.89+184443.6</td><td>CII</td><td>1334.5</td><td>11</td><td>-126</td><td>-101</td><td></td><td>15</td><td>7</td><td></td><td>13.07</td><td>0.32</td><td>205.69538124999997</td><td>18.74546666666667</td></tr>\n",
       "<tr><td>1047</td><td>SDSSJ134246.89+184443.6</td><td>CIV</td><td>1548.2</td><td>12</td><td>-118</td><td>-99</td><td></td><td>23</td><td>9</td><td></td><td>12.86</td><td>0.35</td><td>205.69538124999997</td><td>18.74546666666667</td></tr>\n",
       "<tr><td>1048</td><td>SDSSJ134246.89+184443.6</td><td>SiII</td><td>1260.4</td><td>11</td><td>-126</td><td>-100</td><td></td><td>26</td><td>9</td><td></td><td>12.39</td><td>0.26</td><td>205.69538124999997</td><td>18.74546666666667</td></tr>\n",
       "<tr><td>1049</td><td>SDSSJ134246.89+184443.6</td><td>SiIII</td><td>1206.5</td><td>9</td><td>-140</td><td>-100</td><td></td><td>33</td><td>11</td><td></td><td>12.32</td><td>0.27</td><td>205.69538124999997</td><td>18.74546666666667</td></tr>\n",
       "</table>"
      ],
      "text/plain": [
       "<Table masked=True length=1049>\n",
       "  No            Name           Ion   ...         RA                DEC        \n",
       "                                     ...                                      \n",
       "int16         bytes27         bytes5 ...      float64            float64      \n",
       "----- ----------------------- ------ ... ------------------ ------------------\n",
       "    1     J142947.03+064334.9  CII   ... 217.44585624999996  6.726382777777778\n",
       "    2     J142947.03+064334.9  CIV   ... 217.44585624999996  6.726382777777778\n",
       "    3     J142947.03+064334.9  CIV   ... 217.44585624999996  6.726382777777778\n",
       "    4     J142947.03+064334.9  SiII  ... 217.44585624999996  6.726382777777778\n",
       "    5     J142947.03+064334.9  SiII  ... 217.44585624999996  6.726382777777778\n",
       "    6     J142947.03+064334.9  SiII  ... 217.44585624999996  6.726382777777778\n",
       "    7     J142947.03+064334.9  SiII  ... 217.44585624999996  6.726382777777778\n",
       "    8     J142947.03+064334.9  SiIII ... 217.44585624999996  6.726382777777778\n",
       "    9             PKS2005-489  CII   ...  302.3557958333333 -48.83158944444445\n",
       "  ...                     ...    ... ...                ...                ...\n",
       " 1040     J141612.96+122340.5  CIV   ... 214.05363791666664 12.394551944444444\n",
       " 1041     J141612.96+122340.5  SiII  ... 214.05363791666664 12.394551944444444\n",
       " 1042     J141612.96+122340.5  SiII  ... 214.05363791666664 12.394551944444444\n",
       " 1043     J141612.96+122340.5  SiII  ... 214.05363791666664 12.394551944444444\n",
       " 1044     J141612.96+122340.5  SiII  ... 214.05363791666664 12.394551944444444\n",
       " 1045     J141612.96+122340.5  SiIII ... 214.05363791666664 12.394551944444444\n",
       " 1046 SDSSJ134246.89+184443.6  CII   ... 205.69538124999997  18.74546666666667\n",
       " 1047 SDSSJ134246.89+184443.6  CIV   ... 205.69538124999997  18.74546666666667\n",
       " 1048 SDSSJ134246.89+184443.6  SiII  ... 205.69538124999997  18.74546666666667\n",
       " 1049 SDSSJ134246.89+184443.6  SiIII ... 205.69538124999997  18.74546666666667"
      ]
     },
     "execution_count": 8,
     "metadata": {},
     "output_type": "execute_result"
    }
   ],
   "source": [
    "r17_a2"
   ]
  },
  {
   "cell_type": "markdown",
   "metadata": {},
   "source": [
    "## Now in pyigm"
   ]
  },
  {
   "cell_type": "code",
   "execution_count": 9,
   "metadata": {},
   "outputs": [
    {
     "name": "stderr",
     "output_type": "stream",
     "text": [
      "/home/xavier/local/Python/pyigm/pyigm/cgm/cgm.py:55: UserWarning: cgm.CGMAbsSys: Using Planck15 cosmology\n",
      "  warnings.warn('cgm.CGMAbsSys: Using Planck15 cosmology')\n"
     ]
    },
    {
     "name": "stdout",
     "output_type": "stream",
     "text": [
      "Loading data.  This takes ~20s to build it all...\n",
      "read_sets: Using set file -- \n",
      "  /home/xavier/local/Python/linetools/linetools/lists/sets/llist_v1.2.ascii\n",
      "Loading abundances from Asplund2009\n",
      "Abundances are relative by number on a logarithmic scale with H=12\n",
      "Loading Richter+17 for CII, CIV, SiII, SiIII\n"
     ]
    },
    {
     "name": "stderr",
     "output_type": "stream",
     "text": [
      "/home/xavier/local/Python/linetools/linetools/isgm/abscomponent.py:737: UserWarning: Absline <AbsLine: SiII 1193, z=0.0000 wrest=1193.2897 Angstrom, f=0.582> has flag=0.  Hopefully you expected that\n",
      "  warnings.warn(\"Absline {} has flag=0.  Hopefully you expected that\".format(str(aline)))\n"
     ]
    },
    {
     "name": "stdout",
     "output_type": "stream",
     "text": [
      "read_sets: Using set file -- \n",
      "  /home/xavier/local/Python/linetools/linetools/lists/sets/llist_v1.2.ascii\n",
      "Loading abundances from Asplund2009\n",
      "Abundances are relative by number on a logarithmic scale with H=12\n",
      "Loading Fang+15 for OVII\n"
     ]
    },
    {
     "name": "stderr",
     "output_type": "stream",
     "text": [
      "/home/xavier/local/Python/linetools/linetools/isgm/abscomponent.py:737: UserWarning: Absline <AbsLine: OVII 21, z=0.0000 wrest=21.6019 Angstrom, f=0.696> has flag=0.  Hopefully you expected that\n",
      "  warnings.warn(\"Absline {} has flag=0.  Hopefully you expected that\".format(str(aline)))\n"
     ]
    },
    {
     "name": "stdout",
     "output_type": "stream",
     "text": [
      "Loading Savage+03 for OVI\n"
     ]
    }
   ],
   "source": [
    "mwcgm = GalaxyCGM()"
   ]
  },
  {
   "cell_type": "markdown",
   "metadata": {},
   "source": [
    "### Ions"
   ]
  },
  {
   "cell_type": "code",
   "execution_count": 10,
   "metadata": {},
   "outputs": [
    {
     "data": {
      "text/html": [
       "<i>Table masked=True length=20</i>\n",
       "<table id=\"table140073066839568\" class=\"table-striped table-bordered table-condensed\">\n",
       "<thead><tr><th>abssys_name</th><th>b_gal</th><th>l_gal</th><th>comp_name</th><th>Z</th><th>ion</th><th>Ej</th><th>vmin</th><th>vmax</th><th>ion_name</th><th>flag_N</th><th>logN</th><th>sig_logN [2]</th><th>comment</th><th>reliability</th><th>z_sys</th><th>cgm_name</th><th>rho_impact</th></tr></thead>\n",
       "<thead><tr><th></th><th>deg</th><th>deg</th><th></th><th></th><th></th><th>1 / cm</th><th>km / s</th><th>km / s</th><th></th><th></th><th></th><th></th><th></th><th></th><th></th><th></th><th>kpc</th></tr></thead>\n",
       "<thead><tr><th>str27</th><th>float64</th><th>float64</th><th>str14</th><th>int64</th><th>int64</th><th>float64</th><th>float64</th><th>float64</th><th>str5</th><th>int64</th><th>float64</th><th>float64</th><th>str1</th><th>str4</th><th>float64</th><th>str21</th><th>float64</th></tr></thead>\n",
       "<tr><td>J142947.03+064334.9_z0</td><td>58.996440296029746</td><td>356.271605051499</td><td>SiII_z0.00000</td><td>14</td><td>2</td><td>0.0</td><td>-155.00000000002774</td><td>-98.9999999999973</td><td>SiII</td><td>1</td><td>13.220815979745517</td><td>0.1721634976285624 .. 0.1721634976285624</td><td></td><td>none</td><td>0.0</td><td>J1429+0643_127_212649</td><td>6.862315983637923</td></tr>\n",
       "<tr><td>PKS2005-489_z0</td><td>-32.6007615002691</td><td>350.37308856882294</td><td>SiII_z0.00000</td><td>14</td><td>2</td><td>0.0</td><td>98.99999999997881</td><td>205.99999999996393</td><td>SiII</td><td>1</td><td>13.077153312148681</td><td>0.035800039583337516 .. 0.035800039583337516</td><td></td><td>none</td><td>0.0</td><td>J2009-4849_149_121829</td><td>4.45517573964724</td></tr>\n",
       "<tr><td>LBQS-1435-0134_z0</td><td>51.3745567985288</td><td>348.71843800402814</td><td>SiII_z0.00000</td><td>14</td><td>2</td><td>0.0</td><td>-155.99999999999343</td><td>-100.00000000001992</td><td>SiII</td><td>1</td><td>12.75</td><td>0.05000000074505805 .. --</td><td></td><td>none</td><td>0.0</td><td>J1437-0147_132_188114</td><td>6.3258399868991</td></tr>\n",
       "<tr><td>RBS1892_z0</td><td>-58.36716390303398</td><td>345.8978959014258</td><td>SiII_z0.00000</td><td>14</td><td>2</td><td>0.0</td><td>-114.99999999999538</td><td>-100.00000000001992</td><td>SiII</td><td>1</td><td>12.079999923706055</td><td>0.20999999344348902 .. 0.20999999344348902</td><td></td><td>none</td><td>0.0</td><td>J2245-4652_142_213929</td><td>6.887702478600229</td></tr>\n",
       "<tr><td>QSO-B1435-0645_z0</td><td>47.206165949229074</td><td>343.97844470734</td><td>SiII_z0.00000</td><td>14</td><td>2</td><td>0.0</td><td>-137.00000000000392</td><td>-100.00000000001992</td><td>SiII</td><td>1</td><td>12.711084516721954</td><td>0.10050798411162186 .. --</td><td></td><td>none</td><td>0.0</td><td>J1438-0658_134_177242</td><td>6.059039145928378</td></tr>\n",
       "<tr><td>--</td><td>--</td><td>--</td><td>--</td><td>--</td><td>--</td><td>--</td><td>--</td><td>--</td><td>--</td><td>0</td><td>--</td><td>0.1721634976285624 .. --</td><td>--</td><td>--</td><td>--</td><td>J1406+0157_121_218548</td><td>6.977078720648362</td></tr>\n",
       "<tr><td>SDSS-J135726.27+043541.4_z0</td><td>62.51407290611056</td><td>340.76761339514707</td><td>SiII_z0.00000</td><td>14</td><td>2</td><td>0.0</td><td>-145.00000000001043</td><td>-101.00000000000169</td><td>SiII</td><td>1</td><td>12.90999984741211</td><td>0.09000000357627867 .. 0.09000000357627867</td><td></td><td>none</td><td>0.0</td><td>J1357+0435_115_230996</td><td>7.200453408607503</td></tr>\n",
       "<tr><td>IRAS-F22456-5125_z0</td><td>-56.62936359937779</td><td>338.51149593445933</td><td>SiII_z0.00000</td><td>14</td><td>2</td><td>0.0</td><td>100.00000000001486</td><td>157.00000000000307</td><td>SiII</td><td>1</td><td>12.229999542236328</td><td>0.07999999821186067 .. --</td><td></td><td>none</td><td>0.0</td><td>J2248-5109_147_213174</td><td>6.8727453131606655</td></tr>\n",
       "<tr><td>HE2347-4342_z0</td><td>-69.57370424460132</td><td>336.03374769108245</td><td>SiII_z0.00000</td><td>14</td><td>2</td><td>0.0</td><td>98.99999999997881</td><td>166.99999999998624</td><td>SiII</td><td>1</td><td>12.798344954800953</td><td>0.045802520813724705 .. 0.045802520813724705</td><td></td><td>none</td><td>0.0</td><td>J2350-4325_141_257050</td><td>7.582272200916215</td></tr>\n",
       "<tr><td>--</td><td>--</td><td>--</td><td>--</td><td>--</td><td>--</td><td>--</td><td>--</td><td>--</td><td>--</td><td>0</td><td>--</td><td>0.1721634976285624 .. 0.1721634976285624</td><td>--</td><td>--</td><td>--</td><td>J1342+0505_107_243306</td><td>7.395564293079446</td></tr>\n",
       "<tr><td>1H-2129-624_z0</td><td>-42.275027990795756</td><td>331.5002992071929</td><td>SiII_z0.00000</td><td>14</td><td>2</td><td>0.0</td><td>98.99999999997881</td><td>254.00000000003627</td><td>SiII</td><td>1</td><td>12.030669924468688</td><td>0.08336652129634074 .. 0.08336652129634074</td><td></td><td>none</td><td>0.0</td><td>J2133-6215_154_177980</td><td>6.077693757091235</td></tr>\n",
       "<tr><td>--</td><td>--</td><td>--</td><td>--</td><td>--</td><td>--</td><td>--</td><td>--</td><td>--</td><td>--</td><td>0</td><td>--</td><td>0.1721634976285624 .. 0.1721634976285624</td><td>--</td><td>--</td><td>--</td><td>J1315+1525_77_283616</td><td>7.84715705949044</td></tr>\n",
       "<tr><td>SDSSJ134251.60-005345.3_z0</td><td>59.366432855140644</td><td>328.8189473710432</td><td>SiII_z0.00000</td><td>14</td><td>2</td><td>0.0</td><td>-148.99999999998633</td><td>-100.00000000001992</td><td>SiII</td><td>1</td><td>13.203311835164914</td><td>0.17466743897396322 .. 0.17466743897396322</td><td></td><td>none</td><td>0.0</td><td>J1342-0053_115_230959</td><td>7.199827699636182</td></tr>\n",
       "<tr><td>HARO11_z0</td><td>-82.84798976714248</td><td>328.08532591314315</td><td>SiII_z0.00000</td><td>14</td><td>2</td><td>0.0</td><td>-272.999999999998</td><td>189.99999999996092</td><td>SiII</td><td>1</td><td>13.1535951342292</td><td>0.036953872281745306 .. 0.036953872281745306</td><td></td><td>none</td><td>0.0</td><td>J0036-3333_137_302161</td><td>7.955199816817679</td></tr>\n",
       "<tr><td>RXS-J00057-5007_z0</td><td>-65.40537537289744</td><td>320.7097875454362</td><td>SiII_z0.00000</td><td>14</td><td>2</td><td>0.0</td><td>90.99999999997998</td><td>189.99999999996092</td><td>SiII</td><td>1</td><td>13.293350580012556</td><td>0.041649360880864815 .. 0.041649360880864815</td><td></td><td>none</td><td>0.0</td><td>J0005-5006_153_256353</td><td>7.573607565244096</td></tr>\n",
       "<tr><td>--</td><td>--</td><td>--</td><td>--</td><td>--</td><td>--</td><td>--</td><td>--</td><td>--</td><td>--</td><td>0</td><td>--</td><td>0.1721634976285624 .. 0.1721634976285624</td><td>--</td><td>--</td><td>--</td><td>J1309+0819_78_273838</td><td>7.764596426056365</td></tr>\n",
       "<tr><td>VV2006-J130524.3+035731_z0</td><td>66.59150023053327</td><td>311.7287350556273</td><td>SiII_z0.00000</td><td>14</td><td>2</td><td>0.0</td><td>-173.99999999998664</td><td>-98.9999999999973</td><td>SiII</td><td>1</td><td>12.801872509051268</td><td>0.11165562435040649 .. 0.11165562435040649</td><td></td><td>none</td><td>0.0</td><td>J1305+0357_85_268800</td><td>7.715229989622776</td></tr>\n",
       "<tr><td>VV2006-J125124.6+055420_z0</td><td>68.77735438757117</td><td>302.9133500324205</td><td>SiII_z0.00000</td><td>14</td><td>2</td><td>0.0</td><td>-159.00000000005184</td><td>-98.9999999999973</td><td>SiII</td><td>1</td><td>13.430000305175781</td><td>0.20999999344348907 .. 0.20999999344348907</td><td></td><td>none</td><td>0.0</td><td>J1251+0554_66_283162</td><td>7.843715906874576</td></tr>\n",
       "<tr><td>RBS144_z0</td><td>-65.83616648873654</td><td>299.48369588633375</td><td>SiII_z0.00000</td><td>14</td><td>2</td><td>0.0</td><td>100.00000000001486</td><td>217.99999999999844</td><td>SiII</td><td>2</td><td>13.6899995803833</td><td>99.98999999999998 .. 99.98999999999998</td><td></td><td>none</td><td>0.0</td><td>J0100-5113_166_282157</td><td>7.835956144035322</td></tr>\n",
       "<tr><td>HB89-0202-765_z0</td><td>-40.04515968380045</td><td>297.54865746073773</td><td>SiII_z0.00000</td><td>14</td><td>2</td><td>0.0</td><td>100.00000000001486</td><td>334.00000000000813</td><td>SiII</td><td>2</td><td>14.579999923706055</td><td>99.99 .. 99.99</td><td></td><td>none</td><td>0.0</td><td>J0202-7620_169_249350</td><td>7.481774265593638</td></tr>\n",
       "</table>"
      ],
      "text/plain": [
       "<Table masked=True length=20>\n",
       "        abssys_name                b_gal        ...     rho_impact    \n",
       "                                    deg         ...        kpc        \n",
       "           str27                  float64       ...      float64      \n",
       "--------------------------- ------------------- ... ------------------\n",
       "     J142947.03+064334.9_z0  58.996440296029746 ...  6.862315983637923\n",
       "             PKS2005-489_z0   -32.6007615002691 ...   4.45517573964724\n",
       "          LBQS-1435-0134_z0    51.3745567985288 ...    6.3258399868991\n",
       "                 RBS1892_z0  -58.36716390303398 ...  6.887702478600229\n",
       "          QSO-B1435-0645_z0  47.206165949229074 ...  6.059039145928378\n",
       "                         --                  -- ...  6.977078720648362\n",
       "SDSS-J135726.27+043541.4_z0   62.51407290611056 ...  7.200453408607503\n",
       "        IRAS-F22456-5125_z0  -56.62936359937779 ... 6.8727453131606655\n",
       "             HE2347-4342_z0  -69.57370424460132 ...  7.582272200916215\n",
       "                         --                  -- ...  7.395564293079446\n",
       "             1H-2129-624_z0 -42.275027990795756 ...  6.077693757091235\n",
       "                         --                  -- ...   7.84715705949044\n",
       " SDSSJ134251.60-005345.3_z0  59.366432855140644 ...  7.199827699636182\n",
       "                  HARO11_z0  -82.84798976714248 ...  7.955199816817679\n",
       "         RXS-J00057-5007_z0  -65.40537537289744 ...  7.573607565244096\n",
       "                         --                  -- ...  7.764596426056365\n",
       " VV2006-J130524.3+035731_z0   66.59150023053327 ...  7.715229989622776\n",
       " VV2006-J125124.6+055420_z0   68.77735438757117 ...  7.843715906874576\n",
       "                  RBS144_z0  -65.83616648873654 ...  7.835956144035322\n",
       "           HB89-0202-765_z0  -40.04515968380045 ...  7.481774265593638"
      ]
     },
     "execution_count": 10,
     "metadata": {},
     "output_type": "execute_result"
    }
   ],
   "source": [
    "SiII_tbl = mwcgm.abs.ion_tbl((14,2))\n",
    "SiII_tbl[0:20]"
   ]
  },
  {
   "cell_type": "markdown",
   "metadata": {},
   "source": [
    "----"
   ]
  },
  {
   "cell_type": "markdown",
   "metadata": {
    "collapsed": true
   },
   "source": [
    "## Spot checking for YZ"
   ]
  },
  {
   "cell_type": "markdown",
   "metadata": {},
   "source": [
    "### Haro11_z0"
   ]
  },
  {
   "cell_type": "code",
   "execution_count": 11,
   "metadata": {},
   "outputs": [
    {
     "data": {
      "text/plain": [
       "1"
      ]
     },
     "execution_count": 11,
     "metadata": {},
     "output_type": "execute_result"
    }
   ],
   "source": [
    "idx = SiII_tbl['abssys_name'] == 'HARO11_z0'\n",
    "np.sum(idx)"
   ]
  },
  {
   "cell_type": "code",
   "execution_count": 12,
   "metadata": {},
   "outputs": [
    {
     "data": {
      "text/html": [
       "<i>Table masked=True length=1</i>\n",
       "<table id=\"table140073028743296\" class=\"table-striped table-bordered table-condensed\">\n",
       "<thead><tr><th>abssys_name</th><th>b_gal</th><th>l_gal</th><th>comp_name</th><th>Z</th><th>ion</th><th>Ej</th><th>vmin</th><th>vmax</th><th>ion_name</th><th>flag_N</th><th>logN</th><th>sig_logN [2]</th><th>comment</th><th>reliability</th><th>z_sys</th><th>cgm_name</th><th>rho_impact</th></tr></thead>\n",
       "<thead><tr><th></th><th>deg</th><th>deg</th><th></th><th></th><th></th><th>1 / cm</th><th>km / s</th><th>km / s</th><th></th><th></th><th></th><th></th><th></th><th></th><th></th><th></th><th>kpc</th></tr></thead>\n",
       "<thead><tr><th>str27</th><th>float64</th><th>float64</th><th>str14</th><th>int64</th><th>int64</th><th>float64</th><th>float64</th><th>float64</th><th>str5</th><th>int64</th><th>float64</th><th>float64</th><th>str1</th><th>str4</th><th>float64</th><th>str21</th><th>float64</th></tr></thead>\n",
       "<tr><td>HARO11_z0</td><td>-82.84798976714248</td><td>328.08532591314315</td><td>SiII_z0.00000</td><td>14</td><td>2</td><td>0.0</td><td>-272.999999999998</td><td>189.99999999996092</td><td>SiII</td><td>1</td><td>13.1535951342292</td><td>0.036953872281745306 .. 0.036953872281745306</td><td></td><td>none</td><td>0.0</td><td>J0036-3333_137_302161</td><td>7.955199816817679</td></tr>\n",
       "</table>"
      ],
      "text/plain": [
       "<Table masked=True length=1>\n",
       "abssys_name       b_gal        ...        cgm_name           rho_impact   \n",
       "                   deg         ...                              kpc       \n",
       "   str27         float64       ...         str21              float64     \n",
       "----------- ------------------ ... --------------------- -----------------\n",
       "  HARO11_z0 -82.84798976714248 ... J0036-3333_137_302161 7.955199816817679"
      ]
     },
     "execution_count": 12,
     "metadata": {},
     "output_type": "execute_result"
    }
   ],
   "source": [
    "SiII_tbl[idx]"
   ]
  },
  {
   "cell_type": "markdown",
   "metadata": {},
   "source": [
    "### Full set"
   ]
  },
  {
   "cell_type": "code",
   "execution_count": 13,
   "metadata": {
    "collapsed": true
   },
   "outputs": [],
   "source": [
    "bad_ones = '/u/xavier/Downloads/Richter17_A1_oddtarget_Si2.npy'"
   ]
  },
  {
   "cell_type": "code",
   "execution_count": 14,
   "metadata": {
    "collapsed": true
   },
   "outputs": [],
   "source": [
    "bad_Si2 = Table(np.load(bad_ones))"
   ]
  },
  {
   "cell_type": "code",
   "execution_count": 15,
   "metadata": {},
   "outputs": [
    {
     "data": {
      "text/html": [
       "<i>Table length=10</i>\n",
       "<table id=\"table140073028544160\" class=\"table-striped table-bordered table-condensed\">\n",
       "<thead><tr><th>abssys_name</th><th>b_gal</th><th>l_gal</th><th>vmin</th><th>vmax</th><th>flag_N</th><th>logN</th><th>sig_logN [2]</th><th>RA</th><th>DEC</th></tr></thead>\n",
       "<thead><tr><th>str27</th><th>float64</th><th>float64</th><th>float64</th><th>float64</th><th>int64</th><th>float64</th><th>float64</th><th>float64</th><th>float64</th></tr></thead>\n",
       "<tr><td>HARO11_z0</td><td>-82.80000221738044</td><td>328.0999927197247</td><td>-272.999999999998</td><td>189.99999999996092</td><td>1</td><td>13.1535951342292</td><td>0.036953872281745306 .. 0.036953872281745306</td><td>9.190586530633002</td><td>-33.59670707634923</td></tr>\n",
       "<tr><td>HE0056-3622_z0</td><td>-80.90000070138383</td><td>293.6999904186238</td><td>-218.00000000001344</td><td>188.00000000004547</td><td>1</td><td>12.803257806913216</td><td>0.09435789894173659 .. 0.09435789894173659</td><td>14.659021536604914</td><td>-36.09885763709191</td></tr>\n",
       "<tr><td>ESO-031--G-008_z0</td><td>-40.800000526881654</td><td>290.3000059915757</td><td>98.99999999997881</td><td>369.9999999999892</td><td>1</td><td>13.075629204400315</td><td>0.08619230707727682 .. 0.08619230707727682</td><td>46.93716046699581</td><td>-72.8155401768207</td></tr>\n",
       "<tr><td>B0117-2837_z0</td><td>-83.69999757349714</td><td>225.69999279439006</td><td>-168.00000000000247</td><td>152.000000000012</td><td>1</td><td>13.014812499786952</td><td>0.051071740967945756 .. 0.051071740967945756</td><td>19.844089740693537</td><td>-28.347237191545045</td></tr>\n",
       "<tr><td>VV2000-J093603.9+320709_z0</td><td>47.60000297617964</td><td>194.00000874896838</td><td>-165.00000000004098</td><td>164.9999999999922</td><td>1</td><td>13.345544601538299</td><td>0.11443087341433218 .. 0.11443087341433218</td><td>144.01291024901337</td><td>32.10209816426649</td></tr>\n",
       "<tr><td>PG0953+414_z0</td><td>51.70000293494694</td><td>179.80000785109414</td><td>-168.9999999999924</td><td>156.00000000003342</td><td>1</td><td>12.520960477609048</td><td>0.0381842516952337 .. 0.0381842516952337</td><td>149.2048343704084</td><td>41.248818108705635</td></tr>\n",
       "<tr><td>SDSSJ092554.43+453544.4_z0</td><td>45.60000286995603</td><td>174.3000076970645</td><td>-142.00000000003052</td><td>142.00000000000372</td><td>1</td><td>12.66690393631674</td><td>0.09214223612724612 .. 0.09214223612724612</td><td>141.4839494131085</td><td>45.605829042374445</td></tr>\n",
       "<tr><td>SDSSJ095000.73+483129.3_z0</td><td>49.10000278273515</td><td>169.0000072865819</td><td>-146.99999999999622</td><td>126.00000000002572</td><td>1</td><td>12.704420678865425</td><td>0.13229186971212453 .. 0.13229186971212453</td><td>147.49529574798404</td><td>48.49898694538164</td></tr>\n",
       "<tr><td>SDSS-J130728.45+542652.3_z0</td><td>62.500000911478736</td><td>117.90000306866297</td><td>-161.99999999998485</td><td>-98.9999999999973</td><td>1</td><td>13.220000267028809</td><td>0.17000000178813934 .. 0.17000000178813934</td><td>196.85597640022362</td><td>54.47179127441576</td></tr>\n",
       "<tr><td>MRK-509_z0</td><td>-29.900002683555467</td><td>36.00000927623037</td><td>100.00000000001486</td><td>170.00000000002197</td><td>1</td><td>13.279999732971191</td><td>0.07999999821186066 .. 0.07999999821186066</td><td>311.09265039917636</td><td>-10.71991851146219</td></tr>\n",
       "</table>"
      ],
      "text/plain": [
       "<Table length=10>\n",
       "        abssys_name                b_gal        ...         DEC        \n",
       "           str27                  float64       ...       float64      \n",
       "--------------------------- ------------------- ... -------------------\n",
       "                  HARO11_z0  -82.80000221738044 ...  -33.59670707634923\n",
       "             HE0056-3622_z0  -80.90000070138383 ...  -36.09885763709191\n",
       "          ESO-031--G-008_z0 -40.800000526881654 ...   -72.8155401768207\n",
       "              B0117-2837_z0  -83.69999757349714 ... -28.347237191545045\n",
       " VV2000-J093603.9+320709_z0   47.60000297617964 ...   32.10209816426649\n",
       "              PG0953+414_z0   51.70000293494694 ...  41.248818108705635\n",
       " SDSSJ092554.43+453544.4_z0   45.60000286995603 ...  45.605829042374445\n",
       " SDSSJ095000.73+483129.3_z0   49.10000278273515 ...   48.49898694538164\n",
       "SDSS-J130728.45+542652.3_z0  62.500000911478736 ...   54.47179127441576\n",
       "                 MRK-509_z0 -29.900002683555467 ...  -10.71991851146219"
      ]
     },
     "execution_count": 15,
     "metadata": {},
     "output_type": "execute_result"
    }
   ],
   "source": [
    "bad_Si2"
   ]
  },
  {
   "cell_type": "code",
   "execution_count": 16,
   "metadata": {},
   "outputs": [
    {
     "data": {
      "text/html": [
       "&lt;Column name=&apos;abssys_name&apos; dtype=&apos;str27&apos; length=10&gt;\n",
       "<table>\n",
       "<tr><td>HARO11_z0</td></tr>\n",
       "<tr><td>HE0056-3622_z0</td></tr>\n",
       "<tr><td>ESO-031--G-008_z0</td></tr>\n",
       "<tr><td>B0117-2837_z0</td></tr>\n",
       "<tr><td>VV2000-J093603.9+320709_z0</td></tr>\n",
       "<tr><td>PG0953+414_z0</td></tr>\n",
       "<tr><td>SDSSJ092554.43+453544.4_z0</td></tr>\n",
       "<tr><td>SDSSJ095000.73+483129.3_z0</td></tr>\n",
       "<tr><td>SDSS-J130728.45+542652.3_z0</td></tr>\n",
       "<tr><td>MRK-509_z0</td></tr>\n",
       "</table>"
      ],
      "text/plain": [
       "<Column name='abssys_name' dtype='str27' length=10>\n",
       "                  HARO11_z0\n",
       "             HE0056-3622_z0\n",
       "          ESO-031--G-008_z0\n",
       "              B0117-2837_z0\n",
       " VV2000-J093603.9+320709_z0\n",
       "              PG0953+414_z0\n",
       " SDSSJ092554.43+453544.4_z0\n",
       " SDSSJ095000.73+483129.3_z0\n",
       "SDSS-J130728.45+542652.3_z0\n",
       "                 MRK-509_z0"
      ]
     },
     "execution_count": 16,
     "metadata": {},
     "output_type": "execute_result"
    }
   ],
   "source": [
    "bad_Si2['abssys_name']"
   ]
  },
  {
   "cell_type": "markdown",
   "metadata": {},
   "source": [
    "----"
   ]
  }
 ],
 "metadata": {
  "kernelspec": {
   "display_name": "Python 3",
   "language": "python",
   "name": "python3"
  },
  "language_info": {
   "codemirror_mode": {
    "name": "ipython",
    "version": 3
   },
   "file_extension": ".py",
   "mimetype": "text/x-python",
   "name": "python",
   "nbconvert_exporter": "python",
   "pygments_lexer": "ipython3",
   "version": "3.6.3"
  }
 },
 "nbformat": 4,
 "nbformat_minor": 2
}
