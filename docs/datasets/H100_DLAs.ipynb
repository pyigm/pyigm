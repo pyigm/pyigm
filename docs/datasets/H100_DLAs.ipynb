{
 "cells": [
  {
   "cell_type": "markdown",
   "metadata": {},
   "source": [
    "# H100 Sample of DLAs \n",
    "    v1.0 -- Updating CII* flag\n",
    "    v1.1 -- Confirming kinematics"
   ]
  },
  {
   "cell_type": "code",
   "execution_count": 15,
   "metadata": {},
   "outputs": [],
   "source": [
    "%matplotlib inline"
   ]
  },
  {
   "cell_type": "code",
   "execution_count": 14,
   "metadata": {},
   "outputs": [],
   "source": [
    "# imports\n",
    "import pdb\n",
    "import numpy as np\n",
    "from matplotlib import pyplot as plt\n",
    "\n",
    "from astropy import units as u\n",
    "\n",
    "from pyigm.surveys.dlasurvey import DLASurvey\n",
    "from pyigm.surveys import utils as pyisu"
   ]
  },
  {
   "cell_type": "markdown",
   "metadata": {},
   "source": [
    "## Load"
   ]
  },
  {
   "cell_type": "code",
   "execution_count": 2,
   "metadata": {},
   "outputs": [
    {
     "name": "stdout",
     "output_type": "stream",
     "text": [
      "H100: Loading summary file /home/xavier/local/Python/pyigm/pyigm/data/DLA/H100/H100_DLA.fits\n",
      "H100: Loading ions file /home/xavier/local/Python/pyigm/pyigm/data/DLA/H100/H100_DLA_ions.json\n",
      "H100: Loading systems.  This takes ~10s\n",
      "Loading systems from /home/xavier/local/Python/pyigm/pyigm/data/DLA/H100/H100_DLA_sys.tar.gz\n",
      "Skipping a likely folder: SYS\n"
     ]
    },
    {
     "name": "stderr",
     "output_type": "stream",
     "text": [
      "/home/xavier/.pyenv/versions/anaconda3-5.0.1/lib/python3.6/site-packages/h5py/__init__.py:36: FutureWarning: Conversion of the second argument of issubdtype from `float` to `np.floating` is deprecated. In future, it will be treated as `np.float64 == np.dtype(float).type`.\n",
      "  from ._conv import register_converters as _register_converters\n"
     ]
    },
    {
     "name": "stdout",
     "output_type": "stream",
     "text": [
      "Starting the AbsSystem build for the _dict.  Be patient..\n"
     ]
    },
    {
     "name": "stderr",
     "output_type": "stream",
     "text": [
      "/home/xavier/local/Python/linetools/linetools/spectralline.py:119: UserWarning: Key mol not in your input dict\n",
      "  warnings.warn(\"Key {:s} not in your input dict\".format(key))\n"
     ]
    },
    {
     "name": "stdout",
     "output_type": "stream",
     "text": [
      "Done!\n",
      "Building the data Table from the internal dict\n",
      "Filling the _ionN tables...\n",
      "All done!!\n"
     ]
    },
    {
     "name": "stderr",
     "output_type": "stream",
     "text": [
      "WARNING: UnitsWarning: '[cm-2]' did not parse as cds unit: Invalid character at col 0 [astropy.units.core]\n",
      "WARNING: UnitsWarning: '[-]' did not parse as cds unit: Invalid character at col 0 [astropy.units.core]\n",
      "WARNING: UnitsWarning: '[10-7Js-1H-1]' did not parse as cds unit: Invalid character at col 0 [astropy.units.core]\n",
      "WARNING: UnitsWarning: '[10-8m]' did not parse as cds unit: Invalid character at col 0 [astropy.units.core]\n"
     ]
    }
   ],
   "source": [
    "h100 = DLASurvey.load_H100()"
   ]
  },
  {
   "cell_type": "markdown",
   "metadata": {},
   "source": [
    "### Check CII* from v1.0"
   ]
  },
  {
   "cell_type": "code",
   "execution_count": 3,
   "metadata": {},
   "outputs": [],
   "source": [
    "CIIs2 = h100.ions((6,2),Ej=63.42/u.cm)"
   ]
  },
  {
   "cell_type": "code",
   "execution_count": 7,
   "metadata": {},
   "outputs": [
    {
     "data": {
      "text/html": [
       "<i>Table masked=True length=10</i>\n",
       "<table id=\"table140410611021584\" class=\"table-striped table-bordered table-condensed\">\n",
       "<thead><tr><th>abssys_name</th><th>Z</th><th>ion</th><th>Ej</th><th>flag_N</th><th>logN</th></tr></thead>\n",
       "<thead><tr><th></th><th></th><th></th><th>1 / cm</th><th></th><th></th></tr></thead>\n",
       "<thead><tr><th>str18</th><th>int64</th><th>int64</th><th>float64</th><th>int64</th><th>float64</th></tr></thead>\n",
       "<tr><td>J1051+3107_z4.139</td><td>6</td><td>2</td><td>63.42</td><td>3</td><td>13.0142</td></tr>\n",
       "<tr><td>J0929+2825_z3.263</td><td>6</td><td>2</td><td>63.42</td><td>1</td><td>13.1896</td></tr>\n",
       "<tr><td>Q0201+11_z3.387</td><td>6</td><td>2</td><td>63.42</td><td>1</td><td>14.117</td></tr>\n",
       "<tr><td>J0255+00_z3.915</td><td>6</td><td>2</td><td>63.42</td><td>1</td><td>13.4095</td></tr>\n",
       "<tr><td>J1200+4015_z3.220</td><td>6</td><td>2</td><td>63.42</td><td>1</td><td>13.6832</td></tr>\n",
       "<tr><td>BR2237-0607_z4.080</td><td>6</td><td>2</td><td>63.42</td><td>3</td><td>12.53</td></tr>\n",
       "<tr><td>J1202+3235_z5.065</td><td>6</td><td>2</td><td>63.42</td><td>3</td><td>12.635</td></tr>\n",
       "<tr><td>J1131+6044_z2.876</td><td>6</td><td>2</td><td>63.42</td><td>3</td><td>12.7307</td></tr>\n",
       "<tr><td>J0814+5029_z3.708</td><td>6</td><td>2</td><td>63.42</td><td>1</td><td>13.0924</td></tr>\n",
       "<tr><td>J1014+4300_z2.959</td><td>6</td><td>2</td><td>63.42</td><td>1</td><td>12.6356</td></tr>\n",
       "</table>"
      ],
      "text/plain": [
       "<Table masked=True length=10>\n",
       "   abssys_name       Z    ion     Ej   flag_N   logN \n",
       "                                1 / cm               \n",
       "      str18        int64 int64 float64 int64  float64\n",
       "------------------ ----- ----- ------- ------ -------\n",
       " J1051+3107_z4.139     6     2   63.42      3 13.0142\n",
       " J0929+2825_z3.263     6     2   63.42      1 13.1896\n",
       "   Q0201+11_z3.387     6     2   63.42      1  14.117\n",
       "   J0255+00_z3.915     6     2   63.42      1 13.4095\n",
       " J1200+4015_z3.220     6     2   63.42      1 13.6832\n",
       "BR2237-0607_z4.080     6     2   63.42      3   12.53\n",
       " J1202+3235_z5.065     6     2   63.42      3  12.635\n",
       " J1131+6044_z2.876     6     2   63.42      3 12.7307\n",
       " J0814+5029_z3.708     6     2   63.42      1 13.0924\n",
       " J1014+4300_z2.959     6     2   63.42      1 12.6356"
      ]
     },
     "execution_count": 7,
     "metadata": {},
     "output_type": "execute_result"
    }
   ],
   "source": [
    "CIIs2[['abssys_name','Z', 'ion', 'Ej', 'flag_N', 'logN']][0:10]"
   ]
  },
  {
   "cell_type": "markdown",
   "metadata": {
    "collapsed": true
   },
   "source": [
    "## Fundamental plane"
   ]
  },
  {
   "cell_type": "code",
   "execution_count": 13,
   "metadata": {},
   "outputs": [
    {
     "data": {
      "text/latex": [
       "$[71,~52,~64,~26,~34,~200,~127,~142,~32,~17,~53,~30,~55,~36,~87,~122,~247,~87,~84,~122,~44,~38,~128,~70,~28,~25,~111,~34,~83,~84,~86,~75,~172,~50,~172,~44,~18,~26,~288,~142,~44,~190,~53,~31,~36,~82,~28,~123,~98,~76,~92,~35,~66,~56,~22,~32,~105,~26,~108,~242,~24,~292,~222,~118,~38,~23,~254,~24,~88,~30,~47,~138,~239,~56,~246,~36,~90,~29,~29,~50,~62,~88,~138,~90,~485,~342,~18,~88,~42,~18,~72,~144,~96,~34,~66,~220,~36,~35,~42,~72] \\; \\mathrm{\\frac{km}{s}}$"
      ],
      "text/plain": [
       "<Quantity [ 71.,  52.,  64.,  26.,  34., 200., 127., 142.,  32.,  17.,\n",
       "            53.,  30.,  55.,  36.,  87., 122., 247.,  87.,  84., 122.,\n",
       "            44.,  38., 128.,  70.,  28.,  25., 111.,  34.,  83.,  84.,\n",
       "            86.,  75., 172.,  50., 172.,  44.,  18.,  26., 288., 142.,\n",
       "            44., 190.,  53.,  31.,  36.,  82.,  28., 123.,  98.,  76.,\n",
       "            92.,  35.,  66.,  56.,  22.,  32., 105.,  26., 108., 242.,\n",
       "            24., 292., 222., 118.,  38.,  23., 254.,  24.,  88.,  30.,\n",
       "            47., 138., 239.,  56., 246.,  36.,  90.,  29.,  29.,  50.,\n",
       "            62.,  88., 138.,  90., 485., 342.,  18.,  88.,  42.,  18.,\n",
       "            72., 144.,  96.,  34.,  66., 220.,  36.,  35.,  42.,  72.] km / s>"
      ]
     },
     "execution_count": 13,
     "metadata": {},
     "output_type": "execute_result"
    }
   ],
   "source": [
    "dvs = np.array([abssys.kin['dv'] for abssys in h100._abs_sys]) * u.km/u.s\n",
    "dvs"
   ]
  },
  {
   "cell_type": "code",
   "execution_count": 16,
   "metadata": {},
   "outputs": [
    {
     "data": {
      "text/plain": [
       "array([-1.99, -1.56, -1.2 , -1.68, -1.72, -0.24, -0.64, -1.82, -2.66,\n",
       "       -1.6 , -1.8 , -2.07, -0.83, -1.96, -1.15, -0.61, -0.89, -0.67,\n",
       "       -1.25, -1.68, -1.33, -0.79, -0.38, -1.27, -2.56, -1.88, -1.38,\n",
       "       -2.27, -2.28, -1.11, -1.11, -1.31, -1.75, -0.99, -0.71, -2.54,\n",
       "       -1.83, -2.35, -1.51, -1.68, -2.27, -1.  , -1.9 , -2.38, -1.37,\n",
       "       -1.39, -1.74, -1.39, -1.97, -1.53, -1.65, -1.5 , -1.69, -1.41,\n",
       "       -1.31, -1.83, -1.39, -1.68, -1.49, -0.64, -2.52, -0.47, -0.94,\n",
       "       -1.01, -1.75, -1.54, -0.82, -2.01, -1.08, -1.46, -1.94, -0.75,\n",
       "       -0.27, -1.81, -1.64, -1.54, -0.94, -1.42, -1.65, -1.6 , -2.17,\n",
       "       -0.82, -0.55, -1.54, -0.74, -1.45, -2.25, -1.92, -2.24, -1.69,\n",
       "       -0.7 , -0.72, -0.61, -1.43, -1.08, -0.88, -1.43, -1.49, -1.7 ,\n",
       "       -1.34])"
      ]
     },
     "execution_count": 16,
     "metadata": {},
     "output_type": "execute_result"
    }
   ],
   "source": [
    "h100.ZH"
   ]
  },
  {
   "cell_type": "markdown",
   "metadata": {},
   "source": [
    "### Plot me"
   ]
  },
  {
   "cell_type": "code",
   "execution_count": 17,
   "metadata": {},
   "outputs": [
    {
     "data": {
      "image/png": "[encoded data removed]",
      "text/plain": [
       "<matplotlib.figure.Figure at 0x7fb3e48d0f98>"
      ]
     },
     "metadata": {},
     "output_type": "display_data"
    }
   ],
   "source": [
    "plt.clf()\n",
    "ax = plt.gca()\n",
    "#\n",
    "ax.scatter(h100.ZH, dvs)\n",
    "#\n",
    "ax.set_xlabel('[Z/H]')\n",
    "ax.set_ylabel(r'$\\Delta v$ (km/s)')\n",
    "#\n",
    "plt.show()"
   ]
  },
  {
   "cell_type": "code",
   "execution_count": null,
   "metadata": {},
   "outputs": [],
   "source": []
  }
 ],
 "metadata": {
  "kernelspec": {
   "display_name": "Python 3",
   "language": "python",
   "name": "python3"
  },
  "language_info": {
   "codemirror_mode": {
    "name": "ipython",
    "version": 3
   },
   "file_extension": ".py",
   "mimetype": "text/x-python",
   "name": "python",
   "nbconvert_exporter": "python",
   "pygments_lexer": "ipython3",
   "version": "3.6.3"
  }
 },
 "nbformat": 4,
 "nbformat_minor": 2
}
