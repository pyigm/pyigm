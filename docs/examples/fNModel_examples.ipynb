{
 "cells": [
  {
   "cell_type": "markdown",
   "metadata": {},
   "source": [
    "# Examples for IGM $f(N)$ models (v2.1)"
   ]
  },
  {
   "cell_type": "code",
   "execution_count": 1,
   "metadata": {},
   "outputs": [],
   "source": [
    "# 2022-09-06 JXP"
   ]
  },
  {
   "cell_type": "code",
   "execution_count": 1,
   "metadata": {
    "tags": []
   },
   "outputs": [],
   "source": [
    "%matplotlib inline"
   ]
  },
  {
   "cell_type": "code",
   "execution_count": 18,
   "metadata": {
    "collapsed": false,
    "jupyter": {
     "outputs_hidden": false
    }
   },
   "outputs": [
    {
     "data": {
      "text/html": [
       "\n",
       "    <div class=\"bk-root\">\n",
       "        <a href=\"https://bokeh.org\" target=\"_blank\" class=\"bk-logo bk-logo-small bk-logo-notebook\"></a>\n",
       "        <span id=\"1004\">Loading BokehJS ...</span>\n",
       "    </div>"
      ]
     },
     "metadata": {},
     "output_type": "display_data"
    },
    {
     "data": {
      "application/javascript": [
       "\n",
       "(function(root) {\n",
       "  function now() {\n",
       "    return new Date();\n",
       "  }\n",
       "\n",
       "  const force = true;\n",
       "\n",
       "  if (typeof root._bokeh_onload_callbacks === \"undefined\" || force === true) {\n",
       "    root._bokeh_onload_callbacks = [];\n",
       "    root._bokeh_is_loading = undefined;\n",
       "  }\n",
       "\n",
       "  const JS_MIME_TYPE = 'application/javascript';\n",
       "  const HTML_MIME_TYPE = 'text/html';\n",
       "  const EXEC_MIME_TYPE = 'application/vnd.bokehjs_exec.v0+json';\n",
       "  const CLASS_NAME = 'output_bokeh rendered_html';\n",
       "\n",
       "  /**\n",
       "   * Render data to the DOM node\n",
       "   */\n",
       "  function render(props, node) {\n",
       "    const script = document.createElement(\"script\");\n",
       "    node.appendChild(script);\n",
       "  }\n",
       "\n",
       "  /**\n",
       "   * Handle when an output is cleared or removed\n",
       "   */\n",
       "  function handleClearOutput(event, handle) {\n",
       "    const cell = handle.cell;\n",
       "\n",
       "    const id = cell.output_area._bokeh_element_id;\n",
       "    const server_id = cell.output_area._bokeh_server_id;\n",
       "    // Clean up Bokeh references\n",
       "    if (id != null && id in Bokeh.index) {\n",
       "      Bokeh.index[id].model.document.clear();\n",
       "      delete Bokeh.index[id];\n",
       "    }\n",
       "\n",
       "    if (server_id !== undefined) {\n",
       "      // Clean up Bokeh references\n",
       "      const cmd_clean = \"from bokeh.io.state import curstate; print(curstate().uuid_to_server['\" + server_id + \"'].get_sessions()[0].document.roots[0]._id)\";\n",
       "      cell.notebook.kernel.execute(cmd_clean, {\n",
       "        iopub: {\n",
       "          output: function(msg) {\n",
       "            const id = msg.content.text.trim();\n",
       "            if (id in Bokeh.index) {\n",
       "              Bokeh.index[id].model.document.clear();\n",
       "              delete Bokeh.index[id];\n",
       "            }\n",
       "          }\n",
       "        }\n",
       "      });\n",
       "      // Destroy server and session\n",
       "      const cmd_destroy = \"import bokeh.io.notebook as ion; ion.destroy_server('\" + server_id + \"')\";\n",
       "      cell.notebook.kernel.execute(cmd_destroy);\n",
       "    }\n",
       "  }\n",
       "\n",
       "  /**\n",
       "   * Handle when a new output is added\n",
       "   */\n",
       "  function handleAddOutput(event, handle) {\n",
       "    const output_area = handle.output_area;\n",
       "    const output = handle.output;\n",
       "\n",
       "    // limit handleAddOutput to display_data with EXEC_MIME_TYPE content only\n",
       "    if ((output.output_type != \"display_data\") || (!Object.prototype.hasOwnProperty.call(output.data, EXEC_MIME_TYPE))) {\n",
       "      return\n",
       "    }\n",
       "\n",
       "    const toinsert = output_area.element.find(\".\" + CLASS_NAME.split(' ')[0]);\n",
       "\n",
       "    if (output.metadata[EXEC_MIME_TYPE][\"id\"] !== undefined) {\n",
       "      toinsert[toinsert.length - 1].firstChild.textContent = output.data[JS_MIME_TYPE];\n",
       "      // store reference to embed id on output_area\n",
       "      output_area._bokeh_element_id = output.metadata[EXEC_MIME_TYPE][\"id\"];\n",
       "    }\n",
       "    if (output.metadata[EXEC_MIME_TYPE][\"server_id\"] !== undefined) {\n",
       "      const bk_div = document.createElement(\"div\");\n",
       "      bk_div.innerHTML = output.data[HTML_MIME_TYPE];\n",
       "      const script_attrs = bk_div.children[0].attributes;\n",
       "      for (let i = 0; i < script_attrs.length; i++) {\n",
       "        toinsert[toinsert.length - 1].firstChild.setAttribute(script_attrs[i].name, script_attrs[i].value);\n",
       "        toinsert[toinsert.length - 1].firstChild.textContent = bk_div.children[0].textContent\n",
       "      }\n",
       "      // store reference to server id on output_area\n",
       "      output_area._bokeh_server_id = output.metadata[EXEC_MIME_TYPE][\"server_id\"];\n",
       "    }\n",
       "  }\n",
       "\n",
       "  function register_renderer(events, OutputArea) {\n",
       "\n",
       "    function append_mime(data, metadata, element) {\n",
       "      // create a DOM node to render to\n",
       "      const toinsert = this.create_output_subarea(\n",
       "        metadata,\n",
       "        CLASS_NAME,\n",
       "        EXEC_MIME_TYPE\n",
       "      );\n",
       "      this.keyboard_manager.register_events(toinsert);\n",
       "      // Render to node\n",
       "      const props = {data: data, metadata: metadata[EXEC_MIME_TYPE]};\n",
       "      render(props, toinsert[toinsert.length - 1]);\n",
       "      element.append(toinsert);\n",
       "      return toinsert\n",
       "    }\n",
       "\n",
       "    /* Handle when an output is cleared or removed */\n",
       "    events.on('clear_output.CodeCell', handleClearOutput);\n",
       "    events.on('delete.Cell', handleClearOutput);\n",
       "\n",
       "    /* Handle when a new output is added */\n",
       "    events.on('output_added.OutputArea', handleAddOutput);\n",
       "\n",
       "    /**\n",
       "     * Register the mime type and append_mime function with output_area\n",
       "     */\n",
       "    OutputArea.prototype.register_mime_type(EXEC_MIME_TYPE, append_mime, {\n",
       "      /* Is output safe? */\n",
       "      safe: true,\n",
       "      /* Index of renderer in `output_area.display_order` */\n",
       "      index: 0\n",
       "    });\n",
       "  }\n",
       "\n",
       "  // register the mime type if in Jupyter Notebook environment and previously unregistered\n",
       "  if (root.Jupyter !== undefined) {\n",
       "    const events = require('base/js/events');\n",
       "    const OutputArea = require('notebook/js/outputarea').OutputArea;\n",
       "\n",
       "    if (OutputArea.prototype.mime_types().indexOf(EXEC_MIME_TYPE) == -1) {\n",
       "      register_renderer(events, OutputArea);\n",
       "    }\n",
       "  }\n",
       "\n",
       "  \n",
       "  if (typeof (root._bokeh_timeout) === \"undefined\" || force === true) {\n",
       "    root._bokeh_timeout = Date.now() + 5000;\n",
       "    root._bokeh_failed_load = false;\n",
       "  }\n",
       "\n",
       "  const NB_LOAD_WARNING = {'data': {'text/html':\n",
       "     \"<div style='background-color: #fdd'>\\n\"+\n",
       "     \"<p>\\n\"+\n",
       "     \"BokehJS does not appear to have successfully loaded. If loading BokehJS from CDN, this \\n\"+\n",
       "     \"may be due to a slow or bad network connection. Possible fixes:\\n\"+\n",
       "     \"</p>\\n\"+\n",
       "     \"<ul>\\n\"+\n",
       "     \"<li>re-rerun `output_notebook()` to attempt to load from CDN again, or</li>\\n\"+\n",
       "     \"<li>use INLINE resources instead, as so:</li>\\n\"+\n",
       "     \"</ul>\\n\"+\n",
       "     \"<code>\\n\"+\n",
       "     \"from bokeh.resources import INLINE\\n\"+\n",
       "     \"output_notebook(resources=INLINE)\\n\"+\n",
       "     \"</code>\\n\"+\n",
       "     \"</div>\"}};\n",
       "\n",
       "  function display_loaded() {\n",
       "    const el = document.getElementById(\"1004\");\n",
       "    if (el != null) {\n",
       "      el.textContent = \"BokehJS is loading...\";\n",
       "    }\n",
       "    if (root.Bokeh !== undefined) {\n",
       "      if (el != null) {\n",
       "        el.textContent = \"BokehJS \" + root.Bokeh.version + \" successfully loaded.\";\n",
       "      }\n",
       "    } else if (Date.now() < root._bokeh_timeout) {\n",
       "      setTimeout(display_loaded, 100)\n",
       "    }\n",
       "  }\n",
       "\n",
       "\n",
       "  function run_callbacks() {\n",
       "    try {\n",
       "      root._bokeh_onload_callbacks.forEach(function(callback) {\n",
       "        if (callback != null)\n",
       "          callback();\n",
       "      });\n",
       "    } finally {\n",
       "      delete root._bokeh_onload_callbacks\n",
       "    }\n",
       "    console.debug(\"Bokeh: all callbacks have finished\");\n",
       "  }\n",
       "\n",
       "  function load_libs(css_urls, js_urls, callback) {\n",
       "    if (css_urls == null) css_urls = [];\n",
       "    if (js_urls == null) js_urls = [];\n",
       "\n",
       "    root._bokeh_onload_callbacks.push(callback);\n",
       "    if (root._bokeh_is_loading > 0) {\n",
       "      console.debug(\"Bokeh: BokehJS is being loaded, scheduling callback at\", now());\n",
       "      return null;\n",
       "    }\n",
       "    if (js_urls == null || js_urls.length === 0) {\n",
       "      run_callbacks();\n",
       "      return null;\n",
       "    }\n",
       "    console.debug(\"Bokeh: BokehJS not loaded, scheduling load and callback at\", now());\n",
       "    root._bokeh_is_loading = css_urls.length + js_urls.length;\n",
       "\n",
       "    function on_load() {\n",
       "      root._bokeh_is_loading--;\n",
       "      if (root._bokeh_is_loading === 0) {\n",
       "        console.debug(\"Bokeh: all BokehJS libraries/stylesheets loaded\");\n",
       "        run_callbacks()\n",
       "      }\n",
       "    }\n",
       "\n",
       "    function on_error(url) {\n",
       "      console.error(\"failed to load \" + url);\n",
       "    }\n",
       "\n",
       "    for (let i = 0; i < css_urls.length; i++) {\n",
       "      const url = css_urls[i];\n",
       "      const element = document.createElement(\"link\");\n",
       "      element.onload = on_load;\n",
       "      element.onerror = on_error.bind(null, url);\n",
       "      element.rel = \"stylesheet\";\n",
       "      element.type = \"text/css\";\n",
       "      element.href = url;\n",
       "      console.debug(\"Bokeh: injecting link tag for BokehJS stylesheet: \", url);\n",
       "      document.body.appendChild(element);\n",
       "    }\n",
       "\n",
       "    for (let i = 0; i < js_urls.length; i++) {\n",
       "      const url = js_urls[i];\n",
       "      const element = document.createElement('script');\n",
       "      element.onload = on_load;\n",
       "      element.onerror = on_error.bind(null, url);\n",
       "      element.async = false;\n",
       "      element.src = url;\n",
       "      console.debug(\"Bokeh: injecting script tag for BokehJS library: \", url);\n",
       "      document.head.appendChild(element);\n",
       "    }\n",
       "  };\n",
       "\n",
       "  function inject_raw_css(css) {\n",
       "    const element = document.createElement(\"style\");\n",
       "    element.appendChild(document.createTextNode(css));\n",
       "    document.body.appendChild(element);\n",
       "  }\n",
       "\n",
       "  \n",
       "  const js_urls = [\"https://cdn.bokeh.org/bokeh/release/bokeh-2.4.2.min.js\", \"https://cdn.bokeh.org/bokeh/release/bokeh-gl-2.4.2.min.js\", \"https://cdn.bokeh.org/bokeh/release/bokeh-widgets-2.4.2.min.js\", \"https://cdn.bokeh.org/bokeh/release/bokeh-tables-2.4.2.min.js\", \"https://cdn.bokeh.org/bokeh/release/bokeh-mathjax-2.4.2.min.js\"];\n",
       "  const css_urls = [];\n",
       "  \n",
       "\n",
       "  const inline_js = [\n",
       "    function(Bokeh) {\n",
       "      Bokeh.set_log_level(\"info\");\n",
       "    },\n",
       "    function(Bokeh) {\n",
       "    \n",
       "    \n",
       "    }\n",
       "  ];\n",
       "\n",
       "  function run_inline_js() {\n",
       "    \n",
       "    if (root.Bokeh !== undefined || force === true) {\n",
       "      \n",
       "    for (let i = 0; i < inline_js.length; i++) {\n",
       "      inline_js[i].call(root, root.Bokeh);\n",
       "    }\n",
       "    if (force === true) {\n",
       "        display_loaded();\n",
       "      }} else if (Date.now() < root._bokeh_timeout) {\n",
       "      setTimeout(run_inline_js, 100);\n",
       "    } else if (!root._bokeh_failed_load) {\n",
       "      console.log(\"Bokeh: BokehJS failed to load within specified timeout.\");\n",
       "      root._bokeh_failed_load = true;\n",
       "    } else if (force !== true) {\n",
       "      const cell = $(document.getElementById(\"1004\")).parents('.cell').data().cell;\n",
       "      cell.output_area.append_execute_result(NB_LOAD_WARNING)\n",
       "    }\n",
       "\n",
       "  }\n",
       "\n",
       "  if (root._bokeh_is_loading === 0) {\n",
       "    console.debug(\"Bokeh: BokehJS loaded, going straight to plotting\");\n",
       "    run_inline_js();\n",
       "  } else {\n",
       "    load_libs(css_urls, js_urls, function() {\n",
       "      console.debug(\"Bokeh: BokehJS plotting callback run at\", now());\n",
       "      run_inline_js();\n",
       "    });\n",
       "  }\n",
       "}(window));"
      ],
      "application/vnd.bokehjs_load.v0+json": "\n(function(root) {\n  function now() {\n    return new Date();\n  }\n\n  const force = true;\n\n  if (typeof root._bokeh_onload_callbacks === \"undefined\" || force === true) {\n    root._bokeh_onload_callbacks = [];\n    root._bokeh_is_loading = undefined;\n  }\n\n  \n\n  \n  if (typeof (root._bokeh_timeout) === \"undefined\" || force === true) {\n    root._bokeh_timeout = Date.now() + 5000;\n    root._bokeh_failed_load = false;\n  }\n\n  const NB_LOAD_WARNING = {'data': {'text/html':\n     \"<div style='background-color: #fdd'>\\n\"+\n     \"<p>\\n\"+\n     \"BokehJS does not appear to have successfully loaded. If loading BokehJS from CDN, this \\n\"+\n     \"may be due to a slow or bad network connection. Possible fixes:\\n\"+\n     \"</p>\\n\"+\n     \"<ul>\\n\"+\n     \"<li>re-rerun `output_notebook()` to attempt to load from CDN again, or</li>\\n\"+\n     \"<li>use INLINE resources instead, as so:</li>\\n\"+\n     \"</ul>\\n\"+\n     \"<code>\\n\"+\n     \"from bokeh.resources import INLINE\\n\"+\n     \"output_notebook(resources=INLINE)\\n\"+\n     \"</code>\\n\"+\n     \"</div>\"}};\n\n  function display_loaded() {\n    const el = document.getElementById(\"1004\");\n    if (el != null) {\n      el.textContent = \"BokehJS is loading...\";\n    }\n    if (root.Bokeh !== undefined) {\n      if (el != null) {\n        el.textContent = \"BokehJS \" + root.Bokeh.version + \" successfully loaded.\";\n      }\n    } else if (Date.now() < root._bokeh_timeout) {\n      setTimeout(display_loaded, 100)\n    }\n  }\n\n\n  function run_callbacks() {\n    try {\n      root._bokeh_onload_callbacks.forEach(function(callback) {\n        if (callback != null)\n          callback();\n      });\n    } finally {\n      delete root._bokeh_onload_callbacks\n    }\n    console.debug(\"Bokeh: all callbacks have finished\");\n  }\n\n  function load_libs(css_urls, js_urls, callback) {\n    if (css_urls == null) css_urls = [];\n    if (js_urls == null) js_urls = [];\n\n    root._bokeh_onload_callbacks.push(callback);\n    if (root._bokeh_is_loading > 0) {\n      console.debug(\"Bokeh: BokehJS is being loaded, scheduling callback at\", now());\n      return null;\n    }\n    if (js_urls == null || js_urls.length === 0) {\n      run_callbacks();\n      return null;\n    }\n    console.debug(\"Bokeh: BokehJS not loaded, scheduling load and callback at\", now());\n    root._bokeh_is_loading = css_urls.length + js_urls.length;\n\n    function on_load() {\n      root._bokeh_is_loading--;\n      if (root._bokeh_is_loading === 0) {\n        console.debug(\"Bokeh: all BokehJS libraries/stylesheets loaded\");\n        run_callbacks()\n      }\n    }\n\n    function on_error(url) {\n      console.error(\"failed to load \" + url);\n    }\n\n    for (let i = 0; i < css_urls.length; i++) {\n      const url = css_urls[i];\n      const element = document.createElement(\"link\");\n      element.onload = on_load;\n      element.onerror = on_error.bind(null, url);\n      element.rel = \"stylesheet\";\n      element.type = \"text/css\";\n      element.href = url;\n      console.debug(\"Bokeh: injecting link tag for BokehJS stylesheet: \", url);\n      document.body.appendChild(element);\n    }\n\n    for (let i = 0; i < js_urls.length; i++) {\n      const url = js_urls[i];\n      const element = document.createElement('script');\n      element.onload = on_load;\n      element.onerror = on_error.bind(null, url);\n      element.async = false;\n      element.src = url;\n      console.debug(\"Bokeh: injecting script tag for BokehJS library: \", url);\n      document.head.appendChild(element);\n    }\n  };\n\n  function inject_raw_css(css) {\n    const element = document.createElement(\"style\");\n    element.appendChild(document.createTextNode(css));\n    document.body.appendChild(element);\n  }\n\n  \n  const js_urls = [\"https://cdn.bokeh.org/bokeh/release/bokeh-2.4.2.min.js\", \"https://cdn.bokeh.org/bokeh/release/bokeh-gl-2.4.2.min.js\", \"https://cdn.bokeh.org/bokeh/release/bokeh-widgets-2.4.2.min.js\", \"https://cdn.bokeh.org/bokeh/release/bokeh-tables-2.4.2.min.js\", \"https://cdn.bokeh.org/bokeh/release/bokeh-mathjax-2.4.2.min.js\"];\n  const css_urls = [];\n  \n\n  const inline_js = [\n    function(Bokeh) {\n      Bokeh.set_log_level(\"info\");\n    },\n    function(Bokeh) {\n    \n    \n    }\n  ];\n\n  function run_inline_js() {\n    \n    if (root.Bokeh !== undefined || force === true) {\n      \n    for (let i = 0; i < inline_js.length; i++) {\n      inline_js[i].call(root, root.Bokeh);\n    }\n    if (force === true) {\n        display_loaded();\n      }} else if (Date.now() < root._bokeh_timeout) {\n      setTimeout(run_inline_js, 100);\n    } else if (!root._bokeh_failed_load) {\n      console.log(\"Bokeh: BokehJS failed to load within specified timeout.\");\n      root._bokeh_failed_load = true;\n    } else if (force !== true) {\n      const cell = $(document.getElementById(\"1004\")).parents('.cell').data().cell;\n      cell.output_area.append_execute_result(NB_LOAD_WARNING)\n    }\n\n  }\n\n  if (root._bokeh_is_loading === 0) {\n    console.debug(\"Bokeh: BokehJS loaded, going straight to plotting\");\n    run_inline_js();\n  } else {\n    load_libs(css_urls, js_urls, function() {\n      console.debug(\"Bokeh: BokehJS plotting callback run at\", now());\n      run_inline_js();\n    });\n  }\n}(window));"
     },
     "metadata": {},
     "output_type": "display_data"
    }
   ],
   "source": [
    "# imports\n",
    "from importlib import reload\n",
    "\n",
    "try:\n",
    "    import seaborn as sns; sns.set_style(\"white\")\n",
    "except:\n",
    "    pass\n",
    "\n",
    "import time\n",
    "import numpy as np\n",
    "\n",
    "from bokeh.io import output_notebook, show, output_file\n",
    "from bokeh.plotting import figure\n",
    "from bokeh.models import Range1d\n",
    "\n",
    "from matplotlib import pyplot as plt\n",
    "\n",
    "output_notebook()\n",
    "\n",
    "from linetools.spectra.xspectrum1d import XSpectrum1D\n",
    "\n",
    "from pyigm.fN.fnmodel import FNModel\n",
    "from pyigm.fN import tau_eff as teff"
   ]
  },
  {
   "cell_type": "markdown",
   "metadata": {},
   "source": [
    "## Instantiate"
   ]
  },
  {
   "cell_type": "markdown",
   "metadata": {},
   "source": [
    "### Inoue+14 model"
   ]
  },
  {
   "cell_type": "code",
   "execution_count": 3,
   "metadata": {
    "tags": []
   },
   "outputs": [],
   "source": [
    "fN_I14 = FNModel('Gamma')"
   ]
  },
  {
   "cell_type": "code",
   "execution_count": 4,
   "metadata": {
    "collapsed": false,
    "jupyter": {
     "outputs_hidden": false
    }
   },
   "outputs": [
    {
     "data": {
      "text/plain": [
       "(0.0, 10.0)"
      ]
     },
     "execution_count": 4,
     "metadata": {},
     "output_type": "execute_result"
    }
   ],
   "source": [
    "fN_I14.zmnx"
   ]
  },
  {
   "cell_type": "markdown",
   "metadata": {},
   "source": [
    "### Default (Hspline from Prochaska+14)"
   ]
  },
  {
   "cell_type": "code",
   "execution_count": 5,
   "metadata": {
    "collapsed": false,
    "jupyter": {
     "outputs_hidden": false
    }
   },
   "outputs": [
    {
     "name": "stdout",
     "output_type": "stream",
     "text": [
      "Using P14 spline values to generate a default model\n",
      "Loading: /data/Projects/Python/pyigm/pyigm/data/fN/fN_spline_z24.fits.gz\n"
     ]
    }
   ],
   "source": [
    "fN_default = FNModel.default_model()"
   ]
  },
  {
   "cell_type": "code",
   "execution_count": 6,
   "metadata": {
    "collapsed": false,
    "jupyter": {
     "outputs_hidden": false
    }
   },
   "outputs": [
    {
     "data": {
      "text/plain": [
       "<FNModel: Hspline zmnx=(0.5,3) zpivot=2.4, gamma=1.5>"
      ]
     },
     "execution_count": 6,
     "metadata": {},
     "output_type": "execute_result"
    }
   ],
   "source": [
    "fN_default"
   ]
  },
  {
   "cell_type": "markdown",
   "metadata": {},
   "source": [
    "## Calculate $\\ell(X)$"
   ]
  },
  {
   "cell_type": "code",
   "execution_count": 7,
   "metadata": {
    "collapsed": false,
    "jupyter": {
     "outputs_hidden": false
    }
   },
   "outputs": [
    {
     "name": "stdout",
     "output_type": "stream",
     "text": [
      "Using P14 spline values to generate a default model\n",
      "Loading: /data/Projects/Python/pyigm/pyigm/data/fN/fN_spline_z24.fits.gz\n",
      "l(X) = 0.362987\n"
     ]
    }
   ],
   "source": [
    "fN_default = FNModel.default_model()\n",
    "lX = fN_default.calculate_lox(2.4, 17.19+np.log10(2.), 23.) \n",
    "print('l(X) = {:g}'.format(lX))"
   ]
  },
  {
   "cell_type": "markdown",
   "metadata": {},
   "source": [
    "## Calculate $\\tau_{\\rm eff}^{\\rm LL}$"
   ]
  },
  {
   "cell_type": "code",
   "execution_count": 8,
   "metadata": {
    "collapsed": false,
    "jupyter": {
     "outputs_hidden": false
    }
   },
   "outputs": [
    {
     "name": "stdout",
     "output_type": "stream",
     "text": [
      "Using P14 spline values to generate a default model\n",
      "Loading: /data/Projects/Python/pyigm/pyigm/data/fN/fN_spline_z24.fits.gz\n"
     ]
    },
    {
     "name": "stderr",
     "output_type": "stream",
     "text": [
      "WARNING: AstropyDeprecationWarning: `astropy.cosmology.core.FlatLambdaCDM` has been moved (since v5.0) and should be imported as ``from astropy.cosmology import FlatLambdaCDM``. In future this will raise an exception. [astropy.cosmology.core]\n"
     ]
    }
   ],
   "source": [
    "fN_default = FNModel.default_model()\n",
    "zval,teff_LL = teff.lyman_limit(fN_default, 0.5, 2.45)"
   ]
  },
  {
   "cell_type": "code",
   "execution_count": 9,
   "metadata": {
    "collapsed": false,
    "jupyter": {
     "outputs_hidden": false
    }
   },
   "outputs": [
    {
     "data": {
      "text/plain": [
       "(0.5, 1.842987569598177)"
      ]
     },
     "execution_count": 9,
     "metadata": {},
     "output_type": "execute_result"
    }
   ],
   "source": [
    "zval[0], teff_LL[0]"
   ]
  },
  {
   "cell_type": "markdown",
   "metadata": {},
   "source": [
    "### Plot"
   ]
  },
  {
   "cell_type": "code",
   "execution_count": 12,
   "metadata": {
    "collapsed": false,
    "jupyter": {
     "outputs_hidden": false
    }
   },
   "outputs": [
    {
     "data": {
      "image/png": "[encoded data removed]",
      "text/plain": [
       "<Figure size 432x288 with 1 Axes>"
      ]
     },
     "metadata": {},
     "output_type": "display_data"
    }
   ],
   "source": [
    "plt.clf()\n",
    "plt.plot(zval,teff_LL)\n",
    "# \n",
    "plt.xlabel('z')\n",
    "plt.ylabel(r'$\\tau_{\\rm eff}^{\\rm LL}$')\n",
    "plt.show()"
   ]
  },
  {
   "cell_type": "markdown",
   "metadata": {},
   "source": [
    "## $\\lambda_{\\rm 912}^{\\rm mfp}$"
   ]
  },
  {
   "cell_type": "code",
   "execution_count": 11,
   "metadata": {
    "collapsed": false,
    "jupyter": {
     "outputs_hidden": false
    }
   },
   "outputs": [
    {
     "data": {
      "text/latex": [
       "$257.10259 \\; \\mathrm{Mpc}$"
      ],
      "text/plain": [
       "<Quantity 257.10258545808983 Mpc>"
      ]
     },
     "execution_count": 11,
     "metadata": {},
     "output_type": "execute_result"
    }
   ],
   "source": [
    "z = 2.44\n",
    "mfp = fN_default.mfp(z)\n",
    "mfp"
   ]
  },
  {
   "cell_type": "markdown",
   "metadata": {},
   "source": [
    "## $\\rho_{\\rm HI}$"
   ]
  },
  {
   "cell_type": "code",
   "execution_count": 12,
   "metadata": {
    "collapsed": false,
    "jupyter": {
     "outputs_hidden": false
    }
   },
   "outputs": [
    {
     "name": "stdout",
     "output_type": "stream",
     "text": [
      "rho_HI = 8.35538e+07 solMass / Mpc3\n"
     ]
    }
   ],
   "source": [
    "# Evaluate\n",
    "rho_HI = fN_default.calculate_rhoHI(z, (20.3, 22.))\n",
    "print('rho_HI = {:g}'.format(rho_HI))"
   ]
  },
  {
   "cell_type": "markdown",
   "metadata": {},
   "source": [
    "## DM (Dispersion Measure)\n",
    "\n",
    "This is trivial and does not depend on $f(N)$ for now."
   ]
  },
  {
   "cell_type": "code",
   "execution_count": 13,
   "metadata": {
    "collapsed": false,
    "jupyter": {
     "outputs_hidden": false
    }
   },
   "outputs": [
    {
     "name": "stdout",
     "output_type": "stream",
     "text": [
      "Using a Planck15 cosmology with H0=67.74 km / (Mpc s) and Om=0.3075 and Ob=0.0486\n",
      "1235.87279603 pc / cm3\n"
     ]
    }
   ],
   "source": [
    "reload(teff)\n",
    "DM = teff.DM(1.)\n",
    "print(DM)"
   ]
  },
  {
   "cell_type": "markdown",
   "metadata": {},
   "source": [
    "## $\\tau_{\\rm eff}^{\\rm Lyman}$"
   ]
  },
  {
   "cell_type": "markdown",
   "metadata": {},
   "source": [
    "### Need an EW spline"
   ]
  },
  {
   "cell_type": "code",
   "execution_count": 14,
   "metadata": {
    "collapsed": true,
    "jupyter": {
     "outputs_hidden": true
    }
   },
   "outputs": [],
   "source": [
    "from pyigm import utils as pyigmu"
   ]
  },
  {
   "cell_type": "code",
   "execution_count": 15,
   "metadata": {
    "collapsed": false,
    "jupyter": {
     "outputs_hidden": false
    }
   },
   "outputs": [
    {
     "name": "stderr",
     "output_type": "stream",
     "text": [
      "WARNING: UnitsWarning: The unit 'Angstrom' has been deprecated in the FITS standard. Suggested: 10**-1 nm. [astropy.units.format.utils]\n",
      "WARNING:astropy:UnitsWarning: The unit 'Angstrom' has been deprecated in the FITS standard. Suggested: 10**-1 nm.\n"
     ]
    },
    {
     "name": "stdout",
     "output_type": "stream",
     "text": [
      "line = 912.703 Angstrom\n",
      "line = 912.768 Angstrom\n",
      "line = 912.839 Angstrom\n",
      "line = 912.918 Angstrom\n",
      "line = 913.006 Angstrom\n",
      "line = 913.104 Angstrom\n",
      "line = 913.215 Angstrom\n",
      "line = 913.339 Angstrom\n",
      "line = 913.48 Angstrom\n",
      "line = 913.641 Angstrom\n",
      "line = 913.826 Angstrom\n",
      "line = 914.038 Angstrom\n",
      "line = 914.286 Angstrom\n",
      "line = 914.576 Angstrom\n",
      "line = 914.919 Angstrom\n",
      "line = 915.329 Angstrom\n",
      "line = 915.824 Angstrom\n",
      "line = 916.429 Angstrom\n",
      "line = 917.181 Angstrom\n",
      "line = 918.129 Angstrom\n",
      "line = 919.351 Angstrom\n",
      "line = 920.963 Angstrom\n",
      "line = 923.15 Angstrom\n",
      "line = 926.226 Angstrom\n",
      "line = 930.748 Angstrom\n",
      "line = 937.803 Angstrom\n",
      "line = 949.743 Angstrom\n",
      "line = 972.537 Angstrom\n",
      "line = 1025.72 Angstrom\n",
      "line = 1215.67 Angstrom\n",
      "Writing EW_SPLINE_b24.yml\n"
     ]
    },
    {
     "name": "stderr",
     "output_type": "stream",
     "text": [
      "/Users/xavier/anaconda/lib/python2.7/site-packages/yaml/representer.py:142: FutureWarning: comparison to `None` will result in an elementwise object comparison in the future.\n",
      "  if data in [None, ()]:\n"
     ]
    }
   ],
   "source": [
    "pyigmu.mk_ew_lyman_spline(24., 'EW_SPLINE_b24.yml')"
   ]
  },
  {
   "cell_type": "markdown",
   "metadata": {},
   "source": [
    "### Evaluate"
   ]
  },
  {
   "cell_type": "code",
   "execution_count": 16,
   "metadata": {
    "collapsed": false,
    "jupyter": {
     "outputs_hidden": false
    }
   },
   "outputs": [
    {
     "name": "stdout",
     "output_type": "stream",
     "text": [
      "Using P14 spline values to generate a default model\n",
      "Loading: /Users/xavier/local/Python/pyigm/pyigm/data/fN/fN_spline_z24.fits.gz\n",
      "teff(Lya) = 0.198183\n"
     ]
    }
   ],
   "source": [
    "fN_model = FNModel.default_model()\n",
    "# tau_eff\n",
    "reload(teff)\n",
    "lamb = 1215.6701*(1+2.4)\n",
    "lya_teff = teff.lyman_ew(lamb, 2.5, fN_model, NHI_MIN=12., NHI_MAX=17.)\n",
    "print('teff(Lya) = {:g}'.format(lya_teff))"
   ]
  },
  {
   "cell_type": "markdown",
   "metadata": {},
   "source": [
    "### The Sawtooth (with parallelization)"
   ]
  },
  {
   "cell_type": "code",
   "execution_count": 19,
   "metadata": {
    "collapsed": false,
    "jupyter": {
     "outputs_hidden": false
    }
   },
   "outputs": [
    {
     "name": "stdout",
     "output_type": "stream",
     "text": [
      "Using P14 spline values to generate a default model\n",
      "Loading: /Users/xavier/local/Python/pyigm/pyigm/data/fN/fN_spline_z24.fits.gz\n",
      "Wed Mar 30 13:31:06 2016\n",
      "Wed Mar 30 13:32:32 2016\n"
     ]
    }
   ],
   "source": [
    "import multiprocessing\n",
    "from linetools.lists.linelist import LineList\n",
    "import copy\n",
    "HI = LineList('HI')\n",
    "tst_wv = HI._data['wrest']\n",
    "    \n",
    "# f(N)\n",
    "fN_model = FNModel.default_model()\n",
    "# Evaluations\n",
    "saw_wv = np.linspace(910., 1220., num=1000)*u.AA\n",
    "#\n",
    "adict = []\n",
    "for wrest in saw_wv:\n",
    "    tdict = dict(ilambda=wrest.value*(1+2.4), zem=2.5, fN_model=fN_model,\n",
    "                wrest=copy.deepcopy(tst_wv))\n",
    "    adict.append(tdict)\n",
    "\n",
    "print(time.asctime( time.localtime(time.time()) ))\n",
    "pool = multiprocessing.Pool(4) # initialize thread pool N threads\n",
    "ateff = pool.map(teff.map_lymanew, adict)\n",
    "print(time.asctime( time.localtime(time.time()) ))"
   ]
  },
  {
   "cell_type": "code",
   "execution_count": 21,
   "metadata": {
    "collapsed": false,
    "jupyter": {
     "outputs_hidden": false
    }
   },
   "outputs": [
    {
     "data": {
      "text/html": [
       "<script type=\"text/javascript\">\n",
       "        Bokeh.$(function() {\n",
       "            var modelid = \"c71d8d66-02cc-408c-abd0-cdc3a04518d3\";\n",
       "            var modeltype = \"Plot\";\n",
       "            var elementid = \"f079ed03-4c0d-4fd9-b422-69066283b432\";\n",
       "            Bokeh.logger.info(\"Realizing plot:\")\n",
       "            Bokeh.logger.info(\" - modeltype: Plot\");\n",
       "            Bokeh.logger.info(\" - modelid: c71d8d66-02cc-408c-abd0-cdc3a04518d3\");\n",
       "            Bokeh.logger.info(\" - elementid: f079ed03-4c0d-4fd9-b422-69066283b432\");\n",
       "            var all_models = [{\"attributes\": {\"plot\": {\"subtype\": \"Figure\", \"type\": \"Plot\", \"id\": \"c71d8d66-02cc-408c-abd0-cdc3a04518d3\"}, \"tags\": [], \"doc\": null, \"dimension\": 1, \"ticker\": {\"type\": \"BasicTicker\", \"id\": \"e80afce2-b070-4fb7-a52a-c2ba2ce375d1\"}, \"id\": \"16a9248e-934f-4e3c-8a0c-17d7c8df5b76\"}, \"type\": \"Grid\", \"id\": \"16a9248e-934f-4e3c-8a0c-17d7c8df5b76\"}, {\"attributes\": {\"plot\": {\"subtype\": \"Figure\", \"type\": \"Plot\", \"id\": \"c71d8d66-02cc-408c-abd0-cdc3a04518d3\"}, \"tags\": [], \"doc\": null, \"id\": \"fc9f78a9-7c1e-4681-81ea-e7910a74f79d\"}, \"type\": \"ResizeTool\", \"id\": \"fc9f78a9-7c1e-4681-81ea-e7910a74f79d\"}, {\"attributes\": {\"doc\": null, \"id\": \"3f9495c0-ac6a-44ed-a980-fa9b92e18182\", \"tags\": []}, \"type\": \"BasicTickFormatter\", \"id\": \"3f9495c0-ac6a-44ed-a980-fa9b92e18182\"}, {\"attributes\": {\"tags\": [], \"doc\": null, \"mantissas\": [2, 5, 10], \"id\": \"bdd42dcc-1bb9-4ebb-aaaa-fe2eb76caf7d\", \"num_minor_ticks\": 5}, \"type\": \"BasicTicker\", \"id\": \"bdd42dcc-1bb9-4ebb-aaaa-fe2eb76caf7d\"}, {\"attributes\": {\"plot\": {\"subtype\": \"Figure\", \"type\": \"Plot\", \"id\": \"c71d8d66-02cc-408c-abd0-cdc3a04518d3\"}, \"tags\": [], \"doc\": null, \"id\": \"4fb2b16f-b5d0-4adb-8aa5-958d698ba228\"}, \"type\": \"PreviewSaveTool\", \"id\": \"4fb2b16f-b5d0-4adb-8aa5-958d698ba228\"}, {\"attributes\": {\"line_color\": {\"value\": \"black\"}, \"line_width\": {\"value\": 2}, \"line_alpha\": {\"value\": 1.0}, \"doc\": null, \"tags\": [], \"y\": {\"field\": \"y\"}, \"x\": {\"field\": \"x\"}, \"id\": \"9912022b-2253-4e8d-89c1-b8339654c81e\"}, \"type\": \"Line\", \"id\": \"9912022b-2253-4e8d-89c1-b8339654c81e\"}, {\"attributes\": {\"plot\": {\"subtype\": \"Figure\", \"type\": \"Plot\", \"id\": \"c71d8d66-02cc-408c-abd0-cdc3a04518d3\"}, \"dimensions\": [\"width\", \"height\"], \"tags\": [], \"doc\": null, \"id\": \"42069158-0cdf-4385-a5ed-12a777da5f1d\"}, \"type\": \"WheelZoomTool\", \"id\": \"42069158-0cdf-4385-a5ed-12a777da5f1d\"}, {\"attributes\": {\"doc\": null, \"id\": \"072877d4-cffc-448f-b847-867da0086e09\", \"tags\": []}, \"type\": \"BasicTickFormatter\", \"id\": \"072877d4-cffc-448f-b847-867da0086e09\"}, {\"attributes\": {\"line_color\": {\"value\": \"#1f77b4\"}, \"line_width\": {\"value\": 2}, \"tags\": [], \"doc\": null, \"line_alpha\": {\"value\": 0.1}, \"y\": {\"field\": \"y\"}, \"x\": {\"field\": \"x\"}, \"id\": \"380b778c-3087-49d9-ba9c-a0d12745ff8a\"}, \"type\": \"Line\", \"id\": \"380b778c-3087-49d9-ba9c-a0d12745ff8a\"}, {\"attributes\": {\"start\": 0.0, \"end\": 1, \"tags\": [], \"doc\": null, \"id\": \"250ae73a-17e3-415b-8e7c-d12f12b14e28\"}, \"type\": \"Range1d\", \"id\": \"250ae73a-17e3-415b-8e7c-d12f12b14e28\"}, {\"attributes\": {\"nonselection_glyph\": {\"type\": \"Line\", \"id\": \"380b778c-3087-49d9-ba9c-a0d12745ff8a\"}, \"data_source\": {\"type\": \"ColumnDataSource\", \"id\": \"e38e268d-2510-4baf-8a83-e52c3251cf06\"}, \"name\": null, \"tags\": [], \"doc\": null, \"selection_glyph\": null, \"id\": \"6620663d-83b5-425c-bc14-e086b2c1a3e8\", \"glyph\": {\"type\": \"Line\", \"id\": \"9912022b-2253-4e8d-89c1-b8339654c81e\"}}, \"type\": \"GlyphRenderer\", \"id\": \"6620663d-83b5-425c-bc14-e086b2c1a3e8\"}, {\"attributes\": {\"column_names\": [\"x\", \"y\"], \"tags\": [], \"doc\": null, \"selected\": {\"2d\": {\"indices\": []}, \"1d\": {\"indices\": []}, \"0d\": {\"indices\": [], \"flag\": false}}, \"callback\": null, \"data\": {\"y\": [0.7447786269586439, 0.744544755340684, 0.74431079645663, 0.7440767503816627, 0.7438426171910433, 0.7436083969601156, 0.7433740897643031, 0.7431396956791114, 0.7429052147801272, 0.7426706471430182, 0.7424359928435328, 0.7422012519575004, 0.741966424560832, 0.7417315107295188, 0.7414965105396331, 0.7412614240673276, 0.7410262513888368, 0.7407909925804745, 0.7405556477186361, 0.7403202168797972, 0.7400847001405138, 0.7398490975774229, 0.7396134092672414, 0.7393776352867666, 0.7391417757128766, 0.7389058306225298, 0.7386698000927642, 0.738433684200698, 0.73819748302353, 0.7379611966385394, 0.7377248251230845, 0.7374883685546039, 0.7372518270106165, 0.7370152005687206, 0.7367784893065947, 0.7365416933019966, 0.7363048126327643, 0.7360678473768151, 0.7358307976121465, 0.7355936634168344, 0.7353564448690354, 0.7351191420469849, 0.7348817550289978, 0.7346442838934688, 0.7344067287188709, 0.7341690895837574, 0.7339313665667598, 0.7336935597465896, 0.7334556692020372, 0.7332176950119716, 0.7329796372553409, 0.7327414960111721, 0.7325032713585716, 0.732264963376724, 0.7320265721448926, 0.73178809774242, 0.7315495402487268, 0.7313108997433123, 0.7310721763057547, 0.730833370015711, 0.730594480952915, 0.7303555091971804, 0.730116454828399, 0.7298773179265403, 0.7296380985716525, 0.7293987968438616, 0.7291594128233716, 0.7289199465904651, 0.7286803982255022, 0.7284407678089208, 0.7282010554212374, 0.7279612611430453, 0.727721385055016, 0.7274814272378992, 0.7272413877725216, 0.7270012667397874, 0.7267610642206784, 0.7265207802962548, 0.7262804150476524, 0.7260399685560858, 0.7257994409028463, 0.7255588321693028, 0.7253181424369008, 0.7250773717871636, 0.7248365203016909, 0.7245955880621594, 0.7243545751503235, 0.7241134816480138, 0.723872307637138, 0.7236310531996801, 0.7233897184177016, 0.7231483033733396, 0.7229068081488088, 0.7226652328263998, 0.72242357748848, 0.722181842217493, 0.7270244677519252, 0.7310738961098516, 0.7339985051681996, 0.7372383005742006, 0.7388892023479461, 0.740658273647073, 0.7425644287930208, 0.7446318964357248, 0.7468912187664084, 0.7466673764660615, 0.7491593946545946, 0.7489373299635962, 0.7517136135929521, 0.751493536743868, 0.7512733785879226, 0.7544053378985549, 0.7541874304556394, 0.7539694417898822, 0.7575519392763466, 0.7573365365269323, 0.7571210526509434, 0.7569054877069824, 0.761074034538699, 0.7608614926648343, 0.7606488698402467, 0.7604361661212012, 0.7602233815640286, 0.7651739941127303, 0.7649648186485016, 0.7647555625002775, 0.7645462257216394, 0.7643368083662322, 0.7641273104877643, 0.7639177321400074, 0.7699472291548276, 0.7697420707536883, 0.7695368321007864, 0.7693315132465942, 0.769126114241645, 0.768920635136535, 0.7687150759819212, 0.7685094368285229, 0.7683037177271207, 0.7680979187285567, 0.7678920398837348, 0.7754744728146353, 0.7752741806528458, 0.7750738089704511, 0.774873357814294, 0.7746728272312787, 0.7744722172683661, 0.7742715279725778, 0.7740707593909948, 0.7738699115707558, 0.7736689845590602, 0.7734679784031656, 0.7732668931503891, 0.7730657288481063, 0.7728644855437535, 0.7726631632848237, 0.7825766970704356, 0.7823827216420465, 0.7821886677901372, 0.781994535557062, 0.7818003249852312, 0.7816060361171117, 0.7814116689952253, 0.7812172236621506, 0.7810227001605211, 0.7808280985330275, 0.7806334188224154, 0.7804386610714867, 0.7802438253230991, 0.780048911620166, 0.7798539200056567, 0.7796588505225964, 0.779463703214066, 0.7792684781232022, 0.7790731752931978, 0.7788777947673006, 0.7786823365888147, 0.7784868008010999, 0.7782911874475714, 0.7919502670755847, 0.7917648353995347, 0.7915793270961718, 0.7913937422021714, 0.7912080807542596, 0.7910223427892152, 0.7908365283438672, 0.790650637455097, 0.7904646701598373, 0.7902786264950716, 0.7900925064978359, 0.7899063102052165, 0.789720037654352, 0.7895336888824318, 0.7893472639266974, 0.7891607628244409, 0.788974185613006, 0.7887875323297884, 0.7886008030122338, 0.788413997697841, 0.7882271164241587, 0.7880401592287871, 0.7878531261493792, 0.7876660172236368, 0.7874788324893155, 0.7872915719842203, 0.7871042357462082, 0.7869168238131878, 0.7867293362231184, 0.7865417730140108, 0.7863541342239272, 0.7861664198909802, 0.7859786300533345, 0.7857907647492057, 0.7856028240168603, 0.7854148078946166, 0.7852267164208433, 0.7850385496339608, 0.7848503075724405, 0.7846619902748048, 0.8049064167660644, 0.8047332477853275, 0.8045600053734071, 0.8043866895596034, 0.8042133003732632, 0.8040398378437763, 0.8038663020005791, 0.8036926928731516, 0.8035190104910201, 0.8033452548837555, 0.8031714260809725, 0.8029975241123328, 0.8028235490075417, 0.8026495007963498, 0.8024753795085526, 0.8023011851739912, 0.8021269178225507, 0.8019525774841615, 0.8017781641887994, 0.8016036779664848, 0.8014291188472825, 0.8012544868613032, 0.8010797820387023, 0.8009050044096795, 0.8007301540044798, 0.8005552308533935, 0.8003802349867551, 0.8002051664349447, 0.8000300252283865, 0.7998548113975503, 0.7996795249729504, 0.7995041659851465, 0.7993287344647424, 0.7991532304423872, 0.7989776539487746, 0.7988020050146434, 0.7986262836707773, 0.798450489948005, 0.7982746238771995, 0.7980986854892789, 0.7979226748152061, 0.797746591885989, 0.7975704367326796, 0.7973942093863762, 0.7972179098782205, 0.7970415382393988, 0.7968650945011438, 0.7966885786947319, 0.7965119908514835, 0.7963353310027659, 0.7961585991799889, 0.7959817954146085, 0.7958049197381247, 0.7956279721820831, 0.7954509527780731, 0.7952738615577291, 0.7950966985527306, 0.7949194637948016, 0.7947421573157101, 0.7945647791472699, 0.7943873293213392, 0.7942098078698201, 0.7940322148246606, 0.7938545502178525, 0.7936768140814324, 0.7934990064474816, 0.7933211273481262, 0.7931431768155371, 0.7929651548819293, 0.7927870615795628, 0.792608896940742, 0.7924306609978161, 0.7922523537831786, 0.792073975329268, 0.7918955256685675, 0.825356542697131, 0.8252031167181427, 0.8250496234739471, 0.8248960629838068, 0.8247424352670205, 0.824588740342921, 0.8244349782308762, 0.8242811489502899, 0.8241272525206009, 0.8239732889612822, 0.8238192582918429, 0.8236651605318264, 0.8235109957008117, 0.8233567638184126, 0.823202464904278, 0.8230480989780926, 0.8228936660595749, 0.82273916616848, 0.822584599324597, 0.82242996554775, 0.8222752648577993, 0.8221204972746391, 0.8219656628181999, 0.8218107615084456, 0.8216557933653773, 0.8215007584090295, 0.8213456566594728, 0.8211904881368117, 0.8210352528611876, 0.8208799508527758, 0.8207245821317863, 0.8205691467184655, 0.820413644633094, 0.8202580758959878, 0.8201024405274976, 0.8199467385480097, 0.8197909699779456, 0.8196351348377615, 0.8194792331479482, 0.8193232649290328, 0.8191672302015772, 0.8190111289861773, 0.8188549613034654, 0.8186987271741077, 0.8185424266188077, 0.8183860596583006, 0.81822962631336, 0.8180731266047924, 0.8179165605534406, 0.8177599281801815, 0.8176032295059282, 0.8174464645516277, 0.8172896333382635, 0.8171327358868528, 0.8169757722184486, 0.8168187423541392, 0.8166616463150471, 0.8165044841223309, 0.8163472557971835, 0.8161899613608334, 0.816032600834544, 0.815875174239614, 0.8157176815973763, 0.8155601229292, 0.815402498256489, 0.8152448076006816, 0.8150870509832521, 0.8149292284257089, 0.8147713399495963, 0.8146133855764934, 0.8144553653280144, 0.8142972792258084, 0.8141391272915598, 0.8139809095469878, 0.8138226260138468, 0.8136642767139263, 0.8135058616690509, 0.8133473809010799, 0.8131888344319087, 0.8130302222834661, 0.8128715444777175, 0.8127128010366627, 0.812553991982336, 0.8123951173368076, 0.8122361771221825, 0.8120771713606013, 0.8119181000742381, 0.8117589632853035, 0.8115997610160424, 0.8114404932887351, 0.8112811601256971, 0.8111217615492782, 0.8109622975818639, 0.810802768245874, 0.8106431735637648, 0.8104835135580261, 0.8103237882511833, 0.810163997665797, 0.8100041418244623, 0.8098442207498099, 0.8096842344645053, 0.8095241829912491, 0.8093640663527764, 0.8092038845718577, 0.809043637671299, 0.8088833256739402, 0.8087229486026573, 0.8085625064803609, 0.8084019993299963, 0.8082414271745437, 0.8080807900370188, 0.8079200879404723, 0.8077593209079895, 0.8075984889626909, 0.8074375921277323, 0.8072766304263028, 0.8071156038816292, 0.8069545125169719, 0.8067933563556252, 0.8066321354209199, 0.8064708497362216, 0.8063094993249297, 0.8061480842104802, 0.8059866044163431, 0.8058250599660234, 0.8056634508830605, 0.8055017771910303, 0.8053400389135427, 0.8051782360742419, 0.8050163686968081, 0.8048544368049564, 0.8046924404224359, 0.8045303795730314, 0.8043682542805625, 0.8042060645688837, 0.8040438104618841, 0.8038814919834882, 0.803719109157655, 0.8035566620083794, 0.8033941505596894, 0.8032315748356494, 0.803068934860358, 0.8029062306579491, 0.8027434622525913, 0.8025806296684876, 0.802417732929877, 0.8022547720610324, 0.8020917470862623, 0.8019286580299091, 0.8017655049163507, 0.8016022877700003, 0.801439006615305, 0.801275661476748, 0.8011122523788459, 0.8009487793461507, 0.8007852424032501, 0.8006216415747652, 0.8004579768853528, 0.8002942483597053, 0.8001304560225478, 0.7999665998986424, 0.7998026800127845, 0.7996386963898048, 0.799474649054569, 0.799310538031978, 0.7991463633469665, 0.7989821250245049, 0.7988178230895978, 0.7986534575672846, 0.7984890284826397, 0.7983245358607725, 0.798159979726827, 0.7979953601059819, 0.7978306770234508, 0.797665930504481, 0.7975011205743571, 0.7973362472583954, 0.8646224722590699, 0.8645070047342313, 0.8643914843083252, 0.8642759109871326, 0.8641602847764538, 0.8640446056821072, 0.863928873709931, 0.8638130888657817, 0.8636972511555356, 0.863581360585088, 0.8634654171603529, 0.8633494208872639, 0.8632333717717732, 0.863117269819852, 0.8630011150374908, 0.8628849074306996, 0.8627686470055071, 0.8626523337679611, 0.8625359677241283, 0.8624195488800956, 0.8623030772419672, 0.8621865528158675, 0.8620699756079406, 0.8619533456243489, 0.8618366628712737, 0.8617199273549161, 0.8616031390814958, 0.8614862980572522, 0.8613694042884432, 0.8612524577813468, 0.8611354585422587, 0.8610184065774958, 0.8609013018933916, 0.8607841444963014, 0.8606669343925973, 0.8605496715886728, 0.8604323560909383, 0.8603149879058252, 0.860197567039783, 0.8600800934992818, 0.8599625672908084, 0.8598449884208715, 0.8597273568959972, 0.8596096727227313, 0.8594919359076388, 0.8593741464573047, 0.859256304378332, 0.859138409677343, 0.8590204623609805, 0.8589024624359053, 0.858784409908797, 0.8586663047863565, 0.8585481470753014, 0.8584299367823705, 0.8583116739143215, 0.8581933584779295, 0.8580749904799918, 0.8579565699273228, 0.8578380968267562, 0.8577195711851465, 0.8576009930093662, 0.8574823623063068, 0.8573636790828805, 0.8572449433460178, 0.8571261551026677, 0.8570073143597996, 0.8568884211244026, 0.8567694754034837, 0.8566504772040703, 0.8565314265332084, 0.8564123233979636, 0.856293167805421, 0.8561739597626844, 0.8560546992768776, 0.855935386355143, 0.8558160210046426, 0.8556966032325584, 0.8555771330460903, 0.8554576104524586, 0.8553380354589025, 0.8552184080726812, 0.8550987283010719, 0.8549789961513726, 0.8548592116308992, 0.8547393747469881, 0.8546194855069945, 0.8544995439182927, 0.8543795499882774, 0.8542595037243614, 0.8541394051339778, 0.8540192542245779, 0.8538990510036335, 0.8537787954786354, 0.8536584876570935, 0.8535381275465376, 0.8534177151545161, 0.8532972504885977, 0.8531767335563699, 0.8530561643654391, 0.852935542923432, 0.8528148692379941, 0.8526941433167908, 0.8525733651675069, 0.8524525347978454, 0.8523316522155308, 0.852210717428304, 0.8520897304439286, 0.8519686912701857, 0.8518475999148757, 0.851726456385819, 0.8516052606908558, 0.8514840128378448, 0.8513627128346649, 0.8512413606892134, 0.8511199564094083, 0.8509985000031856, 0.8508769914785022, 0.8507554308433337, 0.8506338181056747, 0.8505121532735404, 0.850390436354964, 0.8502686673579993, 0.850146846290719, 0.8500249731612158, 0.8499030479776007, 0.8497810707480054, 0.8496590414805804, 0.8495369601834956, 0.8494148268649404, 0.8492926415331246, 0.8491704041962754, 0.8490481148626418, 0.848925773540491, 0.8488033802381096, 0.8486809349638043, 0.8485584377259002, 0.848435888532743, 0.8483132873926978, 0.8481906343141487, 0.848067929305499, 0.8479451723751721, 0.847822363531611, 0.8476995027832778, 0.8475765901386545, 0.8474536256062416, 0.8473306091945606, 0.8472075409121511, 0.8470844207675733, 0.8469612487694059, 0.8468380249262478, 0.8467147492467172, 0.8465914217394523, 0.8464680424131099, 0.8463446112763674, 0.8462211283379201, 0.8460975936064847, 0.8459740070907962, 0.8458503687996093, 0.8457266787416992, 0.845602936925859, 0.8454791433609028, 0.845355298055663, 0.8452314010189929, 0.8451074522597635, 0.8449834517868676, 0.844859399609216, 0.8447352957357392, 0.8446111401753883, 0.8444869329371316, 0.8443626740299602, 0.8442383634628816, 0.8441140012449251, 0.8439895873851386, 0.8438651218925902, 0.8437406047763665, 0.843616036045574, 0.8434914157093399, 0.8433667437768091, 0.843242020257148, 0.8431172451595415, 0.842992418493193, 0.8428675402673285, 0.8427426104911906, 0.8426176291740431, 0.8424925963251688, 0.84236751195387, 0.8422423760694694, 0.842117188681308, 0.8419919497987479, 0.8418666594311691, 0.8417413175879729, 0.8416159242785788, 0.8414904795124266, 0.841364983298976, 0.841239435647705, 0.8411138365681128, 0.8409881860697175, 0.8408624841620568, 0.8407367308546876, 0.8406109261571871, 0.8404850700791513, 0.8403591626301976, 0.8402332038199607, 0.8401071936580955, 0.8399811321542787, 0.8398550193182034, 0.839728855159585, 0.8396026396881566, 0.8394763729136714, 0.8393500548459033, 0.8392236854946445, 0.8390972648697083, 0.8389707929809255, 0.8388442698381486, 0.8387176954512481, 0.838591069830116, 0.8384643929846621, 0.8383376649248162, 0.8382108856605297, 0.8380840552017703, 0.8379571735585284, 0.837830240740812, 0.8377032567586501, 0.8375762216220902, 0.8374491353412007, 0.8373219979260685, 0.8371948093868005, 0.8370675697335241, 0.8369402789763847, 0.8368129371255489, 0.8366855441912027, 0.8365581001835504, 0.8364306051128177, 0.8363030589892495, 0.8361754618231094, 0.8360478136246815, 0.8359201144042696, 0.8357923641721977, 0.8356645629388078, 0.835536710714463, 0.8354088075095452, 0.835280853334457, 0.8351528481996195, 0.8350247921154748, 0.8348966850924829, 0.8347685271411256, 0.8346403182719025, 0.8345120584953343, 0.83438374782196, 0.8342553862623397, 0.8341269738270521, 0.8339985105266963, 0.8338699963718907, 0.8337414313732734, 0.8336128155415026, 0.833484148887255, 0.8333554314212286, 0.8332266631541401, 0.8330978440967262, 0.8329689742597434, 0.8328400536539673, 0.8327110822901939, 0.8325820601792386, 0.8324529873319367, 0.8323238637591427, 0.8321946894717309, 0.8320654644805959, 0.8319361887966515, 0.8318068624308318, 0.8316774853940891, 0.8315480576973977, 0.8314185793517488, 0.8312890503681566, 0.8311594707576514, 0.8310298405312866, 0.8309001597001331, 0.8307704282752816, 0.8306406462678443, 0.8305108136889514, 0.8303809305497529, 0.8302509968614191, 0.8301210126351404, 0.8299909778821255, 0.8298608926136043, 0.8297307568408255, 0.8296005705750575, 0.8294703338275895, 0.8293400466097288, 0.8292097089328041, 0.8290793208081626, 0.8289488822471709, 0.8288183932612172, 0.8286878538617074, 0.8285572640600681, 0.8284266238677453, 0.8282959332962057, 0.8281651923569342, 0.8280344010614368, 0.8279035594212377, 0.8277726674478819, 0.8276417251529345, 0.827510732547979, 0.8273796896446204, 0.8272485964544815, 0.827117452989206, 0.8269862592604569, 0.8268550152799174, 0.8267237210592903, 0.8265923766102973, 0.8264609819446813, 0.8263295370742031, 0.8261980420106451, 0.8260664967658078, 0.825934901351513, 0.8258032557796009, 0.8256715600619323, 0.8255398142103877, 0.825408018236866, 0.8252761721532882, 0.8251442759715922, 0.8250123297037383, 0.8248803333617051, 0.8247482869574909, 0.824616190503114, 0.8244840440106131, 0.8243518474920459, 0.8242196009594895, 0.824087304425041, 0.8239549579008181, 0.8238225613989576, 0.8236901149316149, 0.8235576185109675, 0.8234250721492108, 0.8232924758585604, 0.823159829651252, 0.8230271335395406, 0.8228943875357014, 0.8227615916520288, 0.8226287459008373, 0.822495850294461, 0.8223629048452532, 0.8222299095655885, 0.8220968644678597, 0.8219637695644798, 0.8218306248678817, 0.8216974303905183, 0.8215641861448615, 0.8214308921434035, 0.8212975483986561, 0.8211641549231505, 0.821030711729438, 0.8208972188300903, 0.8207636762376967, 0.8206300839648693, 0.8204964420242367, 0.8203627504284501, 0.8202290091901783, 0.8200952183221116, 0.8199613778369581, 0.8198274877474475, 0.8196935480663278, 0.8195595588063672, 0.8194255199803551, 0.8192914316010977, 0.8191572936814236, 0.8190231062341792, 0.8188888692722329, 0.8187545828084697, 0.8186202468557976, 0.8184858614271416, 0.8183514265354486, 0.8182169421936835, 0.8180824084148325, 0.8179478252119001, 0.817813192597912, 0.8176785105859116, 0.8175437791889643, 0.8174089984201535, 0.8172741682925835, 0.8171392888193773, 0.8170043600136787, 0.8168693818886501, 0.8167343544574747, 0.8165992777333552, 0.8164641517295126, 0.8163289764591903, 0.8161937519356485, 0.8160584781721696, 0.8159231551820542, 0.8157877829786238, 0.8156523615752174, 0.8155168909851966, 0.815381371221941, 0.8152458022988505, 0.8151101842293438, 0.8149745170268606, 0.8148388007048595, 0.8147030352768199, 0.814567220756239, 0.8144313571566348, 0.814295444491546, 0.814159482774529, 0.8140234720191618, 0.8138874122390408, 0.8137513034477831, 0.8136151456590246, 0.8134789388864211, 0.8133426831436484, 0.8132063784444025, 0.813070024802398, 0.8129336222313697, 0.8127971707450725, 0.8126606703572814, 0.8125241210817887, 0.8123875229324092, 0.8122508759229761, 0.8121141800673427, 0.8119774353793815, 0.8118406418729848, 0.8117037995620655, 0.8115669084605551, 0.811429968582405, 0.8112929799415872, 0.811155942552092, 0.8110188564279301, 0.8108817215831322, 0.8107445380317491, 0.8106073057878492, 0.8104700248655227, 0.8103326952788793, 0.8101953170420471, 0.8100578901691741, 0.8099204146744301, 0.8097828905720025, 0.8096453178760981, 0.8095076966009448, 0.8093700267607898, 0.8092323083698997, 0.8090945414425609, 0.8089567259930783, 0.808818862035779, 0.808680949585008, 0.8085429886551306, 0.8084049792605311, 0.8082669214156143, 0.8081288151348038, 0.8079906604325433, 0.8078524573232972, 0.8077142058215475, 0.8075759059417976, 0.8074375576985701, 0.8072991611064063, 0.8071607161798692, 0.8070222229335388, 0.806883681382017, 0.8067450915399245, 0.8066064534219022, 0.8064677670426086, 0.8063290324167254, 0.8061902495589504, 0.8060514184840034, 0.8059125392066235, 0.8057736117415676, 0.8056346361036153, 0.805495612307563, 0.8053565403682287, 0.8052174203004486, 0.8050782521190807, 0.8049390358389991, 0.8047997714751011, 0.8046604590423018, 0.8045210985555368, 0.8043816900297599, 0.8042422334799462, 0.8041027289210891, 0.8039631763682029, 0.8038235758363206, 0.803683927340495, 0.8035442308957983, 0.8034044865173238, 0.8032646942201817, 0.8031248540195044, 0.8029849659304427, 0.8028450299681671, 0.8027050461478673, 0.8025650144847543, 0.8024249349940566, 0.8022848076910242, 0.8021446325909249, 0.8020044097090469, 0.801864139060699, 0.8017238206612077, 0.8015834545259202, 0.801443040670204, 0.8013025791094444, 0.8011620698590477, 0.8010215129344389, 0.8008809083510642, 0.8007402561243869, 0.8005995562698917, 0.8004588088030825, 0.8003180137394832, 0.8001771710946355, 0.8000362808841026, 0.7998953431234673, 0.79975435782833, 0.7996133250143127, 0.7994722446970564, 0.7993311168922211, 0.7991899416154868, 0.799048718882553, 0.7989074487091391, 0.7987661311109835, 0.7986247661038444, 0.7984833537034993, 0.798341893925746, 0.7982003867864014, 0.7980588323013014, 0.7979172304863025, 0.7977755813572803, 0.797633884930129, 0.7974921412207634, 0.7973503502451184, 0.7972085120191471, 0.7970666265588227, 0.796924693880138, 0.7967827139991049, 0.7966406869317559, 0.7964986126941414], \"x\": [910.0, 910.3103103103103, 910.6206206206206, 910.9309309309309, 911.2412412412413, 911.5515515515516, 911.8618618618618, 912.1721721721722, 912.4824824824825, 912.7927927927927, 913.1031031031031, 913.4134134134134, 913.7237237237238, 914.034034034034, 914.3443443443443, 914.6546546546547, 914.964964964965, 915.2752752752752, 915.5855855855856, 915.8958958958959, 916.2062062062062, 916.5165165165165, 916.8268268268268, 917.1371371371372, 917.4474474474474, 917.7577577577578, 918.0680680680681, 918.3783783783783, 918.6886886886887, 918.998998998999, 919.3093093093094, 919.6196196196196, 919.9299299299299, 920.2402402402403, 920.5505505505505, 920.8608608608608, 921.1711711711712, 921.4814814814815, 921.7917917917918, 922.1021021021021, 922.4124124124124, 922.7227227227228, 923.033033033033, 923.3433433433433, 923.6536536536537, 923.9639639639639, 924.2742742742743, 924.5845845845846, 924.894894894895, 925.2052052052052, 925.5155155155155, 925.8258258258259, 926.1361361361361, 926.4464464464464, 926.7567567567568, 927.0670670670671, 927.3773773773773, 927.6876876876877, 927.997997997998, 928.3083083083083, 928.6186186186186, 928.9289289289289, 929.2392392392393, 929.5495495495495, 929.8598598598599, 930.1701701701702, 930.4804804804805, 930.7907907907908, 931.1011011011011, 931.4114114114114, 931.7217217217217, 932.032032032032, 932.3423423423424, 932.6526526526527, 932.9629629629629, 933.2732732732733, 933.5835835835836, 933.8938938938938, 934.2042042042042, 934.5145145145145, 934.8248248248249, 935.1351351351351, 935.4454454454454, 935.7557557557558, 936.066066066066, 936.3763763763764, 936.6866866866867, 936.996996996997, 937.3073073073073, 937.6176176176176, 937.927927927928, 938.2382382382382, 938.5485485485485, 938.8588588588589, 939.1691691691692, 939.4794794794794, 939.7897897897898, 940.1001001001001, 940.4104104104105, 940.7207207207207, 941.031031031031, 941.3413413413414, 941.6516516516516, 941.961961961962, 942.2722722722723, 942.5825825825826, 942.8928928928929, 943.2032032032032, 943.5135135135135, 943.8238238238238, 944.1341341341341, 944.4444444444445, 944.7547547547548, 945.065065065065, 945.3753753753754, 945.6856856856857, 945.995995995996, 946.3063063063063, 946.6166166166166, 946.926926926927, 947.2372372372372, 947.5475475475475, 947.8578578578579, 948.1681681681682, 948.4784784784785, 948.7887887887888, 949.0990990990991, 949.4094094094094, 949.7197197197197, 950.03003003003, 950.3403403403404, 950.6506506506506, 950.960960960961, 951.2712712712713, 951.5815815815815, 951.8918918918919, 952.2022022022022, 952.5125125125126, 952.8228228228228, 953.1331331331331, 953.4434434434435, 953.7537537537537, 954.064064064064, 954.3743743743744, 954.6846846846847, 954.994994994995, 955.3053053053053, 955.6156156156156, 955.9259259259259, 956.2362362362362, 956.5465465465466, 956.8568568568569, 957.1671671671671, 957.4774774774775, 957.7877877877878, 958.0980980980981, 958.4084084084084, 958.7187187187187, 959.0290290290291, 959.3393393393393, 959.6496496496496, 959.95995995996, 960.2702702702703, 960.5805805805805, 960.8908908908909, 961.2012012012012, 961.5115115115116, 961.8218218218218, 962.1321321321321, 962.4424424424425, 962.7527527527527, 963.063063063063, 963.3733733733734, 963.6836836836837, 963.993993993994, 964.3043043043043, 964.6146146146147, 964.9249249249249, 965.2352352352352, 965.5455455455456, 965.8558558558559, 966.1661661661661, 966.4764764764765, 966.7867867867868, 967.097097097097, 967.4074074074074, 967.7177177177177, 968.0280280280281, 968.3383383383383, 968.6486486486486, 968.958958958959, 969.2692692692692, 969.5795795795796, 969.8898898898899, 970.2002002002002, 970.5105105105105, 970.8208208208208, 971.1311311311312, 971.4414414414414, 971.7517517517517, 972.0620620620621, 972.3723723723724, 972.6826826826826, 972.992992992993, 973.3033033033033, 973.6136136136137, 973.9239239239239, 974.2342342342342, 974.5445445445446, 974.8548548548548, 975.1651651651651, 975.4754754754755, 975.7857857857858, 976.0960960960961, 976.4064064064064, 976.7167167167167, 977.0270270270271, 977.3373373373373, 977.6476476476477, 977.957957957958, 978.2682682682682, 978.5785785785786, 978.8888888888889, 979.1991991991993, 979.5095095095095, 979.8198198198198, 980.1301301301302, 980.4404404404404, 980.7507507507507, 981.0610610610611, 981.3713713713714, 981.6816816816817, 981.991991991992, 982.3023023023023, 982.6126126126126, 982.9229229229229, 983.2332332332332, 983.5435435435436, 983.8538538538538, 984.1641641641642, 984.4744744744745, 984.7847847847847, 985.0950950950951, 985.4054054054054, 985.7157157157158, 986.026026026026, 986.3363363363363, 986.6466466466467, 986.9569569569569, 987.2672672672672, 987.5775775775776, 987.8878878878879, 988.1981981981982, 988.5085085085085, 988.8188188188188, 989.1291291291291, 989.4394394394394, 989.7497497497498, 990.0600600600601, 990.3703703703703, 990.6806806806807, 990.990990990991, 991.3013013013014, 991.6116116116116, 991.9219219219219, 992.2322322322323, 992.5425425425426, 992.8528528528528, 993.1631631631632, 993.4734734734735, 993.7837837837837, 994.0940940940941, 994.4044044044044, 994.7147147147148, 995.025025025025, 995.3353353353353, 995.6456456456457, 995.9559559559559, 996.2662662662663, 996.5765765765766, 996.8868868868869, 997.1971971971972, 997.5075075075075, 997.8178178178179, 998.1281281281281, 998.4384384384384, 998.7487487487488, 999.0590590590591, 999.3693693693693, 999.6796796796797, 999.98998998999, 1000.3003003003003, 1000.6106106106106, 1000.9209209209209, 1001.2312312312313, 1001.5415415415415, 1001.8518518518518, 1002.1621621621622, 1002.4724724724724, 1002.7827827827828, 1003.0930930930931, 1003.4034034034034, 1003.7137137137137, 1004.024024024024, 1004.3343343343344, 1004.6446446446446, 1004.9549549549549, 1005.2652652652653, 1005.5755755755756, 1005.8858858858858, 1006.1961961961962, 1006.5065065065065, 1006.8168168168168, 1007.1271271271271, 1007.4374374374374, 1007.7477477477478, 1008.058058058058, 1008.3683683683684, 1008.6786786786787, 1008.988988988989, 1009.2992992992993, 1009.6096096096096, 1009.91991991992, 1010.2302302302303, 1010.5405405405405, 1010.8508508508509, 1011.1611611611612, 1011.4714714714714, 1011.7817817817818, 1012.0920920920921, 1012.4024024024025, 1012.7127127127127, 1013.023023023023, 1013.3333333333334, 1013.6436436436436, 1013.9539539539539, 1014.2642642642643, 1014.5745745745746, 1014.8848848848849, 1015.1951951951952, 1015.5055055055055, 1015.8158158158158, 1016.1261261261261, 1016.4364364364365, 1016.7467467467468, 1017.057057057057, 1017.3673673673674, 1017.6776776776777, 1017.9879879879879, 1018.2982982982983, 1018.6086086086086, 1018.918918918919, 1019.2292292292292, 1019.5395395395395, 1019.8498498498499, 1020.1601601601601, 1020.4704704704704, 1020.7807807807808, 1021.0910910910911, 1021.4014014014014, 1021.7117117117117, 1022.022022022022, 1022.3323323323323, 1022.6426426426426, 1022.952952952953, 1023.2632632632633, 1023.5735735735735, 1023.8838838838839, 1024.194194194194, 1024.5045045045044, 1024.8148148148148, 1025.1251251251251, 1025.4354354354355, 1025.7457457457458, 1026.0560560560561, 1026.3663663663663, 1026.6766766766766, 1026.986986986987, 1027.2972972972973, 1027.6076076076076, 1027.917917917918, 1028.2282282282283, 1028.5385385385384, 1028.8488488488488, 1029.1591591591591, 1029.4694694694695, 1029.7797797797798, 1030.0900900900901, 1030.4004004004005, 1030.7107107107108, 1031.021021021021, 1031.3313313313313, 1031.6416416416416, 1031.951951951952, 1032.2622622622623, 1032.5725725725727, 1032.8828828828828, 1033.193193193193, 1033.5035035035035, 1033.8138138138138, 1034.1241241241241, 1034.4344344344345, 1034.7447447447448, 1035.0550550550552, 1035.3653653653653, 1035.6756756756756, 1035.985985985986, 1036.2962962962963, 1036.6066066066066, 1036.916916916917, 1037.2272272272273, 1037.5375375375374, 1037.8478478478478, 1038.1581581581581, 1038.4684684684685, 1038.7787787787788, 1039.0890890890892, 1039.3993993993995, 1039.7097097097096, 1040.02002002002, 1040.3303303303303, 1040.6406406406406, 1040.950950950951, 1041.2612612612613, 1041.5715715715717, 1041.8818818818818, 1042.1921921921921, 1042.5025025025025, 1042.8128128128128, 1043.1231231231232, 1043.4334334334335, 1043.7437437437438, 1044.0540540540542, 1044.3643643643643, 1044.6746746746746, 1044.984984984985, 1045.2952952952953, 1045.6056056056057, 1045.915915915916, 1046.2262262262261, 1046.5365365365365, 1046.8468468468468, 1047.1571571571571, 1047.4674674674675, 1047.7777777777778, 1048.0880880880882, 1048.3983983983985, 1048.7087087087086, 1049.019019019019, 1049.3293293293293, 1049.6396396396397, 1049.94994994995, 1050.2602602602603, 1050.5705705705705, 1050.8808808808808, 1051.1911911911911, 1051.5015015015015, 1051.8118118118118, 1052.1221221221222, 1052.4324324324325, 1052.7427427427428, 1053.053053053053, 1053.3633633633633, 1053.6736736736736, 1053.983983983984, 1054.2942942942943, 1054.6046046046047, 1054.9149149149148, 1055.2252252252251, 1055.5355355355355, 1055.8458458458458, 1056.1561561561562, 1056.4664664664665, 1056.7767767767768, 1057.0870870870872, 1057.3973973973973, 1057.7077077077076, 1058.018018018018, 1058.3283283283283, 1058.6386386386387, 1058.948948948949, 1059.2592592592594, 1059.5695695695695, 1059.8798798798798, 1060.1901901901902, 1060.5005005005005, 1060.8108108108108, 1061.1211211211212, 1061.4314314314315, 1061.7417417417419, 1062.052052052052, 1062.3623623623623, 1062.6726726726727, 1062.982982982983, 1063.2932932932933, 1063.6036036036037, 1063.9139139139138, 1064.2242242242241, 1064.5345345345345, 1064.8448448448448, 1065.1551551551552, 1065.4654654654655, 1065.7757757757759, 1066.0860860860862, 1066.3963963963963, 1066.7067067067067, 1067.017017017017, 1067.3273273273273, 1067.6376376376377, 1067.947947947948, 1068.2582582582581, 1068.5685685685685, 1068.8788788788788, 1069.1891891891892, 1069.4994994994995, 1069.8098098098098, 1070.1201201201202, 1070.4304304304305, 1070.7407407407406, 1071.051051051051, 1071.3613613613613, 1071.6716716716717, 1071.981981981982, 1072.2922922922924, 1072.6026026026027, 1072.9129129129128, 1073.2232232232232, 1073.5335335335335, 1073.8438438438438, 1074.1541541541542, 1074.4644644644645, 1074.7747747747749, 1075.0850850850852, 1075.3953953953953, 1075.7057057057057, 1076.016016016016, 1076.3263263263264, 1076.6366366366367, 1076.946946946947, 1077.2572572572572, 1077.5675675675675, 1077.8778778778778, 1078.1881881881882, 1078.4984984984985, 1078.8088088088089, 1079.1191191191192, 1079.4294294294295, 1079.7397397397397, 1080.05005005005, 1080.3603603603603, 1080.6706706706707, 1080.980980980981, 1081.2912912912914, 1081.6016016016015, 1081.9119119119118, 1082.2222222222222, 1082.5325325325325, 1082.8428428428429, 1083.1531531531532, 1083.4634634634635, 1083.7737737737739, 1084.084084084084, 1084.3943943943943, 1084.7047047047047, 1085.015015015015, 1085.3253253253254, 1085.6356356356357, 1085.9459459459458, 1086.2562562562562, 1086.5665665665665, 1086.8768768768768, 1087.1871871871872, 1087.4974974974975, 1087.8078078078079, 1088.1181181181182, 1088.4284284284283, 1088.7387387387387, 1089.049049049049, 1089.3593593593594, 1089.6696696696697, 1089.97997997998, 1090.2902902902904, 1090.6006006006005, 1090.9109109109108, 1091.2212212212212, 1091.5315315315315, 1091.8418418418419, 1092.1521521521522, 1092.4624624624626, 1092.772772772773, 1093.083083083083, 1093.3933933933934, 1093.7037037037037, 1094.014014014014, 1094.3243243243244, 1094.6346346346347, 1094.9449449449448, 1095.2552552552552, 1095.5655655655655, 1095.8758758758759, 1096.1861861861862, 1096.4964964964965, 1096.806806806807, 1097.1171171171172, 1097.4274274274273, 1097.7377377377377, 1098.048048048048, 1098.3583583583584, 1098.6686686686687, 1098.978978978979, 1099.2892892892892, 1099.5995995995995, 1099.9099099099099, 1100.2202202202202, 1100.5305305305305, 1100.8408408408409, 1101.1511511511512, 1101.4614614614616, 1101.7717717717717, 1102.082082082082, 1102.3923923923924, 1102.7027027027027, 1103.013013013013, 1103.3233233233234, 1103.6336336336335, 1103.9439439439439, 1104.2542542542542, 1104.5645645645645, 1104.8748748748749, 1105.1851851851852, 1105.4954954954956, 1105.805805805806, 1106.116116116116, 1106.4264264264264, 1106.7367367367367, 1107.047047047047, 1107.3573573573574, 1107.6676676676677, 1107.977977977978, 1108.2882882882882, 1108.5985985985985, 1108.9089089089089, 1109.2192192192192, 1109.5295295295296, 1109.83983983984, 1110.1501501501502, 1110.4604604604606, 1110.7707707707707, 1111.081081081081, 1111.3913913913914, 1111.7017017017017, 1112.012012012012, 1112.3223223223224, 1112.6326326326325, 1112.9429429429429, 1113.2532532532532, 1113.5635635635635, 1113.873873873874, 1114.1841841841842, 1114.4944944944946, 1114.804804804805, 1115.115115115115, 1115.4254254254254, 1115.7357357357357, 1116.046046046046, 1116.3563563563564, 1116.6666666666667, 1116.9769769769769, 1117.2872872872872, 1117.5975975975975, 1117.9079079079079, 1118.2182182182182, 1118.5285285285286, 1118.838838838839, 1119.1491491491493, 1119.4594594594594, 1119.7697697697697, 1120.08008008008, 1120.3903903903904, 1120.7007007007007, 1121.011011011011, 1121.3213213213214, 1121.6316316316315, 1121.9419419419419, 1122.2522522522522, 1122.5625625625626, 1122.872872872873, 1123.1831831831832, 1123.4934934934936, 1123.803803803804, 1124.114114114114, 1124.4244244244244, 1124.7347347347347, 1125.045045045045, 1125.3553553553554, 1125.6656656656658, 1125.9759759759759, 1126.2862862862862, 1126.5965965965966, 1126.906906906907, 1127.2172172172172, 1127.5275275275276, 1127.837837837838, 1128.1481481481483, 1128.4584584584584, 1128.7687687687687, 1129.079079079079, 1129.3893893893894, 1129.6996996996997, 1130.01001001001, 1130.3203203203202, 1130.6306306306305, 1130.940940940941, 1131.2512512512512, 1131.5615615615616, 1131.871871871872, 1132.1821821821823, 1132.4924924924926, 1132.8028028028027, 1133.113113113113, 1133.4234234234234, 1133.7337337337337, 1134.044044044044, 1134.3543543543544, 1134.6646646646645, 1134.9749749749749, 1135.2852852852852, 1135.5955955955956, 1135.905905905906, 1136.2162162162163, 1136.5265265265266, 1136.836836836837, 1137.147147147147, 1137.4574574574574, 1137.7677677677677, 1138.078078078078, 1138.3883883883884, 1138.6986986986988, 1139.009009009009, 1139.3193193193192, 1139.6296296296296, 1139.93993993994, 1140.2502502502502, 1140.5605605605606, 1140.870870870871, 1141.1811811811813, 1141.4914914914916, 1141.8018018018017, 1142.112112112112, 1142.4224224224224, 1142.7327327327328, 1143.043043043043, 1143.3533533533534, 1143.6636636636636, 1143.973973973974, 1144.2842842842842, 1144.5945945945946, 1144.904904904905, 1145.2152152152153, 1145.5255255255256, 1145.835835835836, 1146.146146146146, 1146.4564564564564, 1146.7667667667668, 1147.077077077077, 1147.3873873873874, 1147.6976976976978, 1148.008008008008, 1148.3183183183182, 1148.6286286286286, 1148.938938938939, 1149.2492492492493, 1149.5595595595596, 1149.86986986987, 1150.1801801801803, 1150.4904904904904, 1150.8008008008007, 1151.111111111111, 1151.4214214214214, 1151.7317317317318, 1152.042042042042, 1152.3523523523522, 1152.6626626626626, 1152.972972972973, 1153.2832832832833, 1153.5935935935936, 1153.903903903904, 1154.2142142142143, 1154.5245245245246, 1154.8348348348347, 1155.145145145145, 1155.4554554554554, 1155.7657657657658, 1156.076076076076, 1156.3863863863864, 1156.6966966966968, 1157.007007007007, 1157.3173173173172, 1157.6276276276276, 1157.937937937938, 1158.2482482482483, 1158.5585585585586, 1158.868868868869, 1159.1791791791793, 1159.4894894894894, 1159.7997997997998, 1160.11011011011, 1160.4204204204204, 1160.7307307307308, 1161.0410410410411, 1161.3513513513512, 1161.6616616616616, 1161.971971971972, 1162.2822822822823, 1162.5925925925926, 1162.902902902903, 1163.2132132132133, 1163.5235235235236, 1163.8338338338338, 1164.144144144144, 1164.4544544544544, 1164.7647647647648, 1165.0750750750751, 1165.3853853853855, 1165.6956956956956, 1166.006006006006, 1166.3163163163163, 1166.6266266266266, 1166.936936936937, 1167.2472472472473, 1167.5575575575576, 1167.867867867868, 1168.1781781781783, 1168.4884884884884, 1168.7987987987988, 1169.109109109109, 1169.4194194194195, 1169.7297297297298, 1170.04004004004, 1170.3503503503503, 1170.6606606606606, 1170.970970970971, 1171.2812812812813, 1171.5915915915916, 1171.901901901902, 1172.2122122122123, 1172.5225225225226, 1172.8328328328328, 1173.143143143143, 1173.4534534534534, 1173.7637637637638, 1174.0740740740741, 1174.3843843843842, 1174.6946946946946, 1175.005005005005, 1175.3153153153153, 1175.6256256256256, 1175.935935935936, 1176.2462462462463, 1176.5565565565566, 1176.866866866867, 1177.177177177177, 1177.4874874874874, 1177.7977977977978, 1178.1081081081081, 1178.4184184184185, 1178.7287287287288, 1179.039039039039, 1179.3493493493493, 1179.6596596596596, 1179.96996996997, 1180.2802802802803, 1180.5905905905906, 1180.900900900901, 1181.2112112112113, 1181.5215215215217, 1181.8318318318318, 1182.1421421421421, 1182.4524524524525, 1182.7627627627628, 1183.0730730730731, 1183.3833833833833, 1183.6936936936936, 1184.004004004004, 1184.3143143143143, 1184.6246246246246, 1184.934934934935, 1185.2452452452453, 1185.5555555555557, 1185.865865865866, 1186.176176176176, 1186.4864864864865, 1186.7967967967968, 1187.1071071071071, 1187.4174174174175, 1187.7277277277276, 1188.038038038038, 1188.3483483483483, 1188.6586586586586, 1188.968968968969, 1189.2792792792793, 1189.5895895895897, 1189.8998998999, 1190.2102102102103, 1190.5205205205204, 1190.8308308308308, 1191.1411411411411, 1191.4514514514515, 1191.7617617617618, 1192.072072072072, 1192.3823823823823, 1192.6926926926926, 1193.003003003003, 1193.3133133133133, 1193.6236236236236, 1193.933933933934, 1194.2442442442443, 1194.5545545545547, 1194.8648648648648, 1195.1751751751751, 1195.4854854854855, 1195.7957957957958, 1196.1061061061062, 1196.4164164164165, 1196.7267267267266, 1197.037037037037, 1197.3473473473473, 1197.6576576576576, 1197.967967967968, 1198.2782782782783, 1198.5885885885887, 1198.898898898899, 1199.2092092092093, 1199.5195195195195, 1199.8298298298298, 1200.1401401401401, 1200.4504504504505, 1200.7607607607608, 1201.071071071071, 1201.3813813813813, 1201.6916916916916, 1202.002002002002, 1202.3123123123123, 1202.6226226226227, 1202.932932932933, 1203.2432432432433, 1203.5535535535537, 1203.8638638638638, 1204.1741741741741, 1204.4844844844845, 1204.7947947947948, 1205.1051051051052, 1205.4154154154153, 1205.7257257257256, 1206.036036036036, 1206.3463463463463, 1206.6566566566567, 1206.966966966967, 1207.2772772772773, 1207.5875875875877, 1207.897897897898, 1208.2082082082081, 1208.5185185185185, 1208.8288288288288, 1209.1391391391392, 1209.4494494494495, 1209.7597597597598, 1210.07007007007, 1210.3803803803803, 1210.6906906906906, 1211.001001001001, 1211.3113113113113, 1211.6216216216217, 1211.931931931932, 1212.2422422422424, 1212.5525525525525, 1212.8628628628628, 1213.1731731731732, 1213.4834834834835, 1213.7937937937938, 1214.1041041041042, 1214.4144144144143, 1214.7247247247246, 1215.035035035035, 1215.3453453453453, 1215.6556556556557, 1215.965965965966, 1216.2762762762763, 1216.5865865865867, 1216.896896896897, 1217.2072072072071, 1217.5175175175175, 1217.8278278278278, 1218.1381381381382, 1218.4484484484485, 1218.7587587587586, 1219.069069069069, 1219.3793793793793, 1219.6896896896897, 1220.0]}, \"id\": \"e38e268d-2510-4baf-8a83-e52c3251cf06\"}, \"type\": \"ColumnDataSource\", \"id\": \"e38e268d-2510-4baf-8a83-e52c3251cf06\"}, {\"attributes\": {\"plot\": {\"subtype\": \"Figure\", \"type\": \"Plot\", \"id\": \"c71d8d66-02cc-408c-abd0-cdc3a04518d3\"}, \"dimensions\": [\"width\", \"height\"], \"tags\": [], \"doc\": null, \"id\": \"38ed9df9-88f7-470e-94f4-d55b2f49f780\"}, \"type\": \"BoxZoomTool\", \"id\": \"38ed9df9-88f7-470e-94f4-d55b2f49f780\"}, {\"attributes\": {\"geometries\": [], \"tags\": [], \"doc\": null, \"id\": \"3e77fbc8-aa9f-4091-b42d-af9596d91da1\"}, \"type\": \"ToolEvents\", \"id\": \"3e77fbc8-aa9f-4091-b42d-af9596d91da1\"}, {\"attributes\": {\"plot\": {\"subtype\": \"Figure\", \"type\": \"Plot\", \"id\": \"c71d8d66-02cc-408c-abd0-cdc3a04518d3\"}, \"tags\": [], \"doc\": null, \"id\": \"7a6ee4a1-9d26-4d40-a847-0f4120315c89\"}, \"type\": \"ResetTool\", \"id\": \"7a6ee4a1-9d26-4d40-a847-0f4120315c89\"}, {\"attributes\": {\"plot\": {\"subtype\": \"Figure\", \"type\": \"Plot\", \"id\": \"c71d8d66-02cc-408c-abd0-cdc3a04518d3\"}, \"tags\": [], \"doc\": null, \"dimension\": 0, \"ticker\": {\"type\": \"BasicTicker\", \"id\": \"bdd42dcc-1bb9-4ebb-aaaa-fe2eb76caf7d\"}, \"id\": \"1d8f1ec7-e011-4372-b4ae-4f496c4c51ab\"}, \"type\": \"Grid\", \"id\": \"1d8f1ec7-e011-4372-b4ae-4f496c4c51ab\"}, {\"attributes\": {\"plot\": {\"subtype\": \"Figure\", \"type\": \"Plot\", \"id\": \"c71d8d66-02cc-408c-abd0-cdc3a04518d3\"}, \"tags\": [], \"doc\": null, \"axis_label\": \"Rest Wavelength\", \"formatter\": {\"type\": \"BasicTickFormatter\", \"id\": \"072877d4-cffc-448f-b847-867da0086e09\"}, \"ticker\": {\"type\": \"BasicTicker\", \"id\": \"bdd42dcc-1bb9-4ebb-aaaa-fe2eb76caf7d\"}, \"id\": \"740de425-bf0e-4306-a4a9-93fb70aa9424\"}, \"type\": \"LinearAxis\", \"id\": \"740de425-bf0e-4306-a4a9-93fb70aa9424\"}, {\"attributes\": {\"plot\": {\"subtype\": \"Figure\", \"type\": \"Plot\", \"id\": \"c71d8d66-02cc-408c-abd0-cdc3a04518d3\"}, \"dimensions\": [\"width\", \"height\"], \"tags\": [], \"doc\": null, \"id\": \"87ce271d-8db2-4f87-b9a8-37de22b5929f\"}, \"type\": \"PanTool\", \"id\": \"87ce271d-8db2-4f87-b9a8-37de22b5929f\"}, {\"attributes\": {\"start\": 900, \"end\": 1230, \"tags\": [], \"doc\": null, \"id\": \"5ed195c5-cf03-42a9-abd9-46cc8d45f887\"}, \"type\": \"Range1d\", \"id\": \"5ed195c5-cf03-42a9-abd9-46cc8d45f887\"}, {\"subtype\": \"Figure\", \"type\": \"Plot\", \"id\": \"c71d8d66-02cc-408c-abd0-cdc3a04518d3\", \"attributes\": {\"x_range\": {\"type\": \"Range1d\", \"id\": \"5ed195c5-cf03-42a9-abd9-46cc8d45f887\"}, \"right\": [], \"tags\": [], \"tools\": [{\"type\": \"PanTool\", \"id\": \"87ce271d-8db2-4f87-b9a8-37de22b5929f\"}, {\"type\": \"WheelZoomTool\", \"id\": \"42069158-0cdf-4385-a5ed-12a777da5f1d\"}, {\"type\": \"BoxZoomTool\", \"id\": \"38ed9df9-88f7-470e-94f4-d55b2f49f780\"}, {\"type\": \"PreviewSaveTool\", \"id\": \"4fb2b16f-b5d0-4adb-8aa5-958d698ba228\"}, {\"type\": \"ResizeTool\", \"id\": \"fc9f78a9-7c1e-4681-81ea-e7910a74f79d\"}, {\"type\": \"ResetTool\", \"id\": \"7a6ee4a1-9d26-4d40-a847-0f4120315c89\"}, {\"type\": \"HelpTool\", \"id\": \"eeef2619-99b7-43d9-a5d2-27d4fffe2633\"}], \"title\": \"Sawtooth (z=2.5)\", \"extra_y_ranges\": {}, \"plot_width\": 500, \"renderers\": [{\"type\": \"LinearAxis\", \"id\": \"740de425-bf0e-4306-a4a9-93fb70aa9424\"}, {\"type\": \"Grid\", \"id\": \"1d8f1ec7-e011-4372-b4ae-4f496c4c51ab\"}, {\"type\": \"LinearAxis\", \"id\": \"dd43a42b-6294-41ac-a04b-47f02fa9972a\"}, {\"type\": \"Grid\", \"id\": \"16a9248e-934f-4e3c-8a0c-17d7c8df5b76\"}, {\"type\": \"GlyphRenderer\", \"id\": \"6620663d-83b5-425c-bc14-e086b2c1a3e8\"}], \"extra_x_ranges\": {}, \"plot_height\": 400, \"tool_events\": {\"type\": \"ToolEvents\", \"id\": \"3e77fbc8-aa9f-4091-b42d-af9596d91da1\"}, \"above\": [], \"doc\": null, \"id\": \"c71d8d66-02cc-408c-abd0-cdc3a04518d3\", \"y_range\": {\"type\": \"Range1d\", \"id\": \"250ae73a-17e3-415b-8e7c-d12f12b14e28\"}, \"below\": [{\"type\": \"LinearAxis\", \"id\": \"740de425-bf0e-4306-a4a9-93fb70aa9424\"}], \"left\": [{\"type\": \"LinearAxis\", \"id\": \"dd43a42b-6294-41ac-a04b-47f02fa9972a\"}]}}, {\"attributes\": {\"tags\": [], \"doc\": null, \"mantissas\": [2, 5, 10], \"id\": \"e80afce2-b070-4fb7-a52a-c2ba2ce375d1\", \"num_minor_ticks\": 5}, \"type\": \"BasicTicker\", \"id\": \"e80afce2-b070-4fb7-a52a-c2ba2ce375d1\"}, {\"attributes\": {\"plot\": {\"subtype\": \"Figure\", \"type\": \"Plot\", \"id\": \"c71d8d66-02cc-408c-abd0-cdc3a04518d3\"}, \"tags\": [], \"doc\": null, \"id\": \"eeef2619-99b7-43d9-a5d2-27d4fffe2633\"}, \"type\": \"HelpTool\", \"id\": \"eeef2619-99b7-43d9-a5d2-27d4fffe2633\"}, {\"attributes\": {\"plot\": {\"subtype\": \"Figure\", \"type\": \"Plot\", \"id\": \"c71d8d66-02cc-408c-abd0-cdc3a04518d3\"}, \"tags\": [], \"doc\": null, \"axis_label\": \"Transmission\", \"formatter\": {\"type\": \"BasicTickFormatter\", \"id\": \"3f9495c0-ac6a-44ed-a980-fa9b92e18182\"}, \"ticker\": {\"type\": \"BasicTicker\", \"id\": \"e80afce2-b070-4fb7-a52a-c2ba2ce375d1\"}, \"id\": \"dd43a42b-6294-41ac-a04b-47f02fa9972a\"}, \"type\": \"LinearAxis\", \"id\": \"dd43a42b-6294-41ac-a04b-47f02fa9972a\"}];\n",
       "            Bokeh.load_models(all_models);\n",
       "            var model = Bokeh.Collections(modeltype).get(modelid);\n",
       "            var view = new model.default_view({model: model, el: '#f079ed03-4c0d-4fd9-b422-69066283b432'});\n",
       "            Bokeh.index[modelid] = view\n",
       "        });\n",
       "    </script>\n",
       "<div class=\"plotdiv\" id=\"f079ed03-4c0d-4fd9-b422-69066283b432\"></div>\n",
       "\n"
      ]
     },
     "metadata": {},
     "output_type": "display_data"
    }
   ],
   "source": [
    "# Lya\n",
    "p = figure(plot_width=500, plot_height=400, title='Sawtooth (z=2.5)')\n",
    "# Data\n",
    "p.line(saw_wv.value, np.exp(-1*np.array(ateff)), color='black', line_width=2)\n",
    "# Labels\n",
    "p.xaxis.axis_label = \"Rest Wavelength\"\n",
    "p.yaxis.axis_label = \"Transmission\"\n",
    "# Show\n",
    "p.set(x_range=Range1d(900,1230), y_range=Range1d(0.,1))\n",
    "show(p)"
   ]
  },
  {
   "cell_type": "markdown",
   "metadata": {},
   "source": [
    "## Mocks"
   ]
  },
  {
   "cell_type": "code",
   "execution_count": 20,
   "metadata": {
    "collapsed": true,
    "jupyter": {
     "outputs_hidden": true
    }
   },
   "outputs": [],
   "source": [
    "from pyigm.fN import mockforest as pyimock"
   ]
  },
  {
   "cell_type": "code",
   "execution_count": 22,
   "metadata": {
    "collapsed": true,
    "jupyter": {
     "outputs_hidden": true
    }
   },
   "outputs": [],
   "source": [
    "# Quasar\n",
    "zem = 2.5"
   ]
  },
  {
   "cell_type": "code",
   "execution_count": 23,
   "metadata": {
    "collapsed": true,
    "jupyter": {
     "outputs_hidden": true
    }
   },
   "outputs": [],
   "source": [
    "# Spectral properties\n",
    "s2n = 10.\n",
    "sampling = 2.\n",
    "R = 2000."
   ]
  },
  {
   "cell_type": "code",
   "execution_count": 24,
   "metadata": {
    "collapsed": true,
    "jupyter": {
     "outputs_hidden": true
    }
   },
   "outputs": [],
   "source": [
    "# Resultant wavelength array (using constant dwv instead of constant dv)\n",
    "disp = 4000/R/sampling # Angstrom\n",
    "wave = np.arange(3800., 1300*(1+zem), disp)*u.AA"
   ]
  },
  {
   "cell_type": "code",
   "execution_count": 25,
   "metadata": {
    "collapsed": false,
    "jupyter": {
     "outputs_hidden": false
    }
   },
   "outputs": [
    {
     "name": "stdout",
     "output_type": "stream",
     "text": [
      "Using a Flat LCDM cosmology: h=0.7, Om=0.3\n"
     ]
    },
    {
     "name": "stderr",
     "output_type": "stream",
     "text": [
      "/Users/xavier/local/Python/linetools/linetools/spectra/xspectrum1d.py:92: UserWarning: Assuming wavelength unit is Angstroms\n",
      "  warnings.warn(\"Assuming wavelength unit is Angstroms\")\n"
     ]
    }
   ],
   "source": [
    "mock_spec, HI_comps, _ = pyimock.mk_mock(wave, zem, fN_model, s2n=s2n, fwhm=sampling)"
   ]
  },
  {
   "cell_type": "code",
   "execution_count": 26,
   "metadata": {
    "collapsed": false,
    "jupyter": {
     "outputs_hidden": false
    }
   },
   "outputs": [
    {
     "data": {
      "image/png": "[encoded data removed]",
      "text/plain": [
       "<matplotlib.figure.Figure at 0x12607d3d0>"
      ]
     },
     "metadata": {},
     "output_type": "display_data"
    }
   ],
   "source": [
    "mock_spec.plot()"
   ]
  },
  {
   "cell_type": "markdown",
   "metadata": {
    "jupyter": {
     "outputs_hidden": true
    }
   },
   "source": [
    "----"
   ]
  }
 ],
 "metadata": {
  "kernelspec": {
   "display_name": "Python 3 (ipykernel)",
   "language": "python",
   "name": "python3"
  },
  "language_info": {
   "codemirror_mode": {
    "name": "ipython",
    "version": 3
   },
   "file_extension": ".py",
   "mimetype": "text/x-python",
   "name": "python",
   "nbconvert_exporter": "python",
   "pygments_lexer": "ipython3",
   "version": "3.9.9"
  }
 },
 "nbformat": 4,
 "nbformat_minor": 4
}
